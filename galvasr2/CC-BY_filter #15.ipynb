{
 "cells": [
  {
   "cell_type": "code",
   "execution_count": 2,
   "metadata": {},
   "outputs": [
    {
     "name": "stdout",
     "output_type": "stream",
     "text": [
      "63627\n"
     ]
    }
   ],
   "source": [
    "from align.spark.schemas import ARCHIVE_ORG_SCHEMA\n",
    "import pyspark.sql.functions as F\n",
    "from pyspark.sql import SparkSession\n",
    "spark = SparkSession.builder.appName('CC-BY-license').getOrCreate()\n",
    "input_catalogue_path = \"gs://the-peoples-speech-west-europe/archive_org/Mar_7_2021/EXPANDED_LICENSES_FILTERED_ACCESS.jsonl.gz\"\n",
    "df = spark.read.format('json').schema(ARCHIVE_ORG_SCHEMA).load(input_catalogue_path)\n",
    "print(df.count())"
   ]
  },
  {
   "cell_type": "code",
   "execution_count": 3,
   "metadata": {},
   "outputs": [
    {
     "name": "stdout",
     "output_type": "stream",
     "text": [
      "+--------------------+--------------------+--------------------+--------------------+\n",
      "| metadata.licenseurl|    metadata.creator|      metadata.title|    metadata.credits|\n",
      "+--------------------+--------------------+--------------------+--------------------+\n",
      "|http://creativeco...|Lamont-Clemens, Inc.|Tomorrow Always C...|Produced by Burne...|\n",
      "|http://creativeco...|                AT86|00 Bienvenido A L...|                null|\n",
      "|http://creativeco...|          Matrixland|00 Bienvenido A L...|                null|\n",
      "|http://creativeco...|                Open|Open Friday | Apr...|                null|\n",
      "|http://creativeco...|                Open|02777 A Open Apri...|                null|\n",
      "|http://creativeco...|  Francisco Betances|Open Monday | Jun...|                null|\n",
      "|http://creativeco...|  Francisco Betances|Open Wednesday | ...|                null|\n",
      "|http://creativeco...|  Francisco Betances|Open Wednesday | ...|                null|\n",
      "|http://creativeco...|                Open|Open Wednesday | ...|                null|\n",
      "|http://creativeco...|  Francisco Betances|Open Friday | May...|                null|\n",
      "|                null|                null|                null|                null|\n",
      "|http://creativeco...|     Donald Phillips|Saturday Matinee: 06|                null|\n",
      "|http://creativeco...|     Donald Phillips|Saturday Matinee: 07|                null|\n",
      "|http://creativeco...|Akakū Maui Commun...|Hawaii Farmers Un...|                null|\n",
      "|http://creativeco...|         Radio Islam|07 Ml. Z. Ragi Ji...|                null|\n",
      "|http://creativeco...|        aula abierta|Historia de Rusia...|                null|\n",
      "|https://creativec...|     City of Holland|1-12-16 Early Bir...|                null|\n",
      "|https://creativec...|     City of Holland|1-12-16 Planning ...|                null|\n",
      "|https://creativec...|     City of Holland|1-18-17 City Council|                null|\n",
      "|https://creativec...|     City of Holland|1-18-18 City Coun...|                null|\n",
      "+--------------------+--------------------+--------------------+--------------------+\n",
      "only showing top 20 rows\n",
      "\n"
     ]
    }
   ],
   "source": [
    "columns = [df.metadata.licenseurl, df.metadata.creator, df.metadata.title, df.metadata.credits]\n",
    "licenses = ['https://creativecommons.org/licenses/by/4.0/',\n",
    "'https://creativecommons.org/licenses/by/3.0/',\n",
    "'http://creativecommons.org/licenses/by/2.0/',\n",
    "'http://creativecommons.org/licenses/by/3.0/',\n",
    "'https://creativecommons.org/licenses/by/3.0',\n",
    "'http://creativecommons.org/licenses/by/2.5/',\n",
    "'http://creativecommons.org/licenses/by/2.5/pl/',\n",
    "'http://creativecommons.org/licenses/by/2.5/it/',\n",
    "'http://creativecommons.org/licenses/by/4.0/',\n",
    "'http://creativecommons.org/licenses/by/3.0/us/',\n",
    "'http://creativecommons.org/licenses/by/2.5/ar/']\n",
    "df = df.select(columns)\n",
    "df.show()"
   ]
  },
  {
   "cell_type": "code",
   "execution_count": 4,
   "metadata": {},
   "outputs": [
    {
     "name": "stdout",
     "output_type": "stream",
     "text": [
      "+----------+\n",
      "|NULL_Count|\n",
      "+----------+\n",
      "|     48411|\n",
      "+----------+\n",
      "\n"
     ]
    }
   ],
   "source": [
    "c = '`metadata.licenseurl`'\n",
    "df.agg(F.count(F.when(F.isnull(c), c)).alias('NULL_Count')).show()"
   ]
  },
  {
   "cell_type": "markdown",
   "metadata": {},
   "source": [
    "### Look NA values"
   ]
  },
  {
   "cell_type": "code",
   "execution_count": 4,
   "metadata": {},
   "outputs": [
    {
     "data": {
      "text/html": [
       "<div>\n",
       "<style scoped>\n",
       "    .dataframe tbody tr th:only-of-type {\n",
       "        vertical-align: middle;\n",
       "    }\n",
       "\n",
       "    .dataframe tbody tr th {\n",
       "        vertical-align: top;\n",
       "    }\n",
       "\n",
       "    .dataframe thead th {\n",
       "        text-align: right;\n",
       "    }\n",
       "</style>\n",
       "<table border=\"1\" class=\"dataframe\">\n",
       "  <thead>\n",
       "    <tr style=\"text-align: right;\">\n",
       "      <th></th>\n",
       "      <th>metadata.licenseurl</th>\n",
       "      <th>metadata.creator</th>\n",
       "      <th>metadata.title</th>\n",
       "      <th>metadata.credits</th>\n",
       "    </tr>\n",
       "  </thead>\n",
       "  <tbody>\n",
       "    <tr>\n",
       "      <th>0</th>\n",
       "      <td>http://creativecommons.org/publicdomain/mark/1.0/</td>\n",
       "      <td>Lamont-Clemens, Inc.</td>\n",
       "      <td>Tomorrow Always Comes</td>\n",
       "      <td>Produced by Burnet Lamont; Directed by William...</td>\n",
       "    </tr>\n",
       "    <tr>\n",
       "      <th>1</th>\n",
       "      <td>http://creativecommons.org/publicdomain/mark/1.0/</td>\n",
       "      <td>AT86</td>\n",
       "      <td>00 Bienvenido A La Revolución De La Impresión ...</td>\n",
       "      <td>None</td>\n",
       "    </tr>\n",
       "    <tr>\n",
       "      <th>2</th>\n",
       "      <td>http://creativecommons.org/publicdomain/mark/1.0/</td>\n",
       "      <td>Matrixland</td>\n",
       "      <td>00 Bienvenido A La Revolución De La Impresión ...</td>\n",
       "      <td>None</td>\n",
       "    </tr>\n",
       "    <tr>\n",
       "      <th>3</th>\n",
       "      <td>http://creativecommons.org/publicdomain/mark/1.0/</td>\n",
       "      <td>Open</td>\n",
       "      <td>Open Friday | Apr. 12, 2013</td>\n",
       "      <td>None</td>\n",
       "    </tr>\n",
       "    <tr>\n",
       "      <th>4</th>\n",
       "      <td>http://creativecommons.org/publicdomain/mark/1.0/</td>\n",
       "      <td>Open</td>\n",
       "      <td>02777 A Open April 17 13</td>\n",
       "      <td>None</td>\n",
       "    </tr>\n",
       "  </tbody>\n",
       "</table>\n",
       "</div>"
      ],
      "text/plain": [
       "                                 metadata.licenseurl      metadata.creator  \\\n",
       "0  http://creativecommons.org/publicdomain/mark/1.0/  Lamont-Clemens, Inc.   \n",
       "1  http://creativecommons.org/publicdomain/mark/1.0/                  AT86   \n",
       "2  http://creativecommons.org/publicdomain/mark/1.0/            Matrixland   \n",
       "3  http://creativecommons.org/publicdomain/mark/1.0/                  Open   \n",
       "4  http://creativecommons.org/publicdomain/mark/1.0/                  Open   \n",
       "\n",
       "                                      metadata.title  \\\n",
       "0                              Tomorrow Always Comes   \n",
       "1  00 Bienvenido A La Revolución De La Impresión ...   \n",
       "2  00 Bienvenido A La Revolución De La Impresión ...   \n",
       "3                        Open Friday | Apr. 12, 2013   \n",
       "4                           02777 A Open April 17 13   \n",
       "\n",
       "                                    metadata.credits  \n",
       "0  Produced by Burnet Lamont; Directed by William...  \n",
       "1                                               None  \n",
       "2                                               None  \n",
       "3                                               None  \n",
       "4                                               None  "
      ]
     },
     "execution_count": 4,
     "metadata": {},
     "output_type": "execute_result"
    }
   ],
   "source": [
    "df_pd = df.toPandas()\n",
    "df_pd.head()"
   ]
  },
  {
   "cell_type": "code",
   "execution_count": 5,
   "metadata": {},
   "outputs": [
    {
     "data": {
      "text/plain": [
       "(63627, 4)"
      ]
     },
     "execution_count": 5,
     "metadata": {},
     "output_type": "execute_result"
    }
   ],
   "source": [
    "df_pd.shape"
   ]
  },
  {
   "cell_type": "code",
   "execution_count": 6,
   "metadata": {},
   "outputs": [
    {
     "data": {
      "text/plain": [
       "metadata.licenseurl    48411\n",
       "metadata.creator       49509\n",
       "metadata.title         48411\n",
       "metadata.credits       61617\n",
       "dtype: int64"
      ]
     },
     "execution_count": 6,
     "metadata": {},
     "output_type": "execute_result"
    }
   ],
   "source": [
    "df_pd.isna().sum()"
   ]
  },
  {
   "cell_type": "code",
   "execution_count": 7,
   "metadata": {
    "scrolled": true
   },
   "outputs": [
    {
     "data": {
      "text/plain": [
       "http://creativecommons.org/publicdomain/mark/1.0/                                                                                                                                                27.563091\n",
       "https://creativecommons.org/licenses/by/3.0/                                                                                                                                                     25.558623\n",
       "http://creativecommons.org/licenses/publicdomain/                                                                                                                                                23.869611\n",
       "http://creativecommons.org/publicdomain/zero/1.0/                                                                                                                                                11.041009\n",
       "http://creativecommons.org/licenses/by/3.0/                                                                                                                                                       4.232387\n",
       "https://creativecommons.org/licenses/by/3.0                                                                                                                                                       3.095426\n",
       "http://creativecommons.org/licenses/by/2.0/                                                                                                                                                       1.997897\n",
       "https://creativecommons.org/licenses/cc0/3.0/                                                                                                                                                     1.498423\n",
       "http://creativecommons.org/licenses/publicdomain                                                                                                                                                  0.611199\n",
       "https://creativecommons.org/licenses/by/4.0/                                                                                                                                                      0.216877\n",
       "http://creativecommons.org/licenses/by/4.0/                                                                                                                                                       0.210305\n",
       "http://creativecommons.org/licenses/by/3.0/us/                                                                                                                                                    0.059148\n",
       "http://creativecommons.org/licenses/by/2.5/it/                                                                                                                                                    0.006572\n",
       "[\"https://creativecommons.org/licenses/by/3.0/\",\"https://creativecommons.org/licenses/by/3.0/\",\"https://creativecommons.org/licenses/by/3.0/\",\"https://creativecommons.org/licenses/by/3.0/\"]     0.006572\n",
       "http://creativecommons.org/licenses/by/2.5/ar/                                                                                                                                                    0.006572\n",
       "http://creativecommons.org/licenses/by/2.5/                                                                                                                                                       0.006572\n",
       "https://creativecommons.org/publicdomain/zero/1.0/                                                                                                                                                0.006572\n",
       "http://creativecommons.org/licenses/by/2.5/pl/                                                                                                                                                    0.006572\n",
       "https://www.usa.gov/government-works                                                                                                                                                              0.006572\n",
       "Name: metadata.licenseurl, dtype: float64"
      ]
     },
     "execution_count": 7,
     "metadata": {},
     "output_type": "execute_result"
    }
   ],
   "source": [
    "df_pd['metadata.licenseurl'].value_counts(normalize=True) * 100"
   ]
  },
  {
   "cell_type": "code",
   "execution_count": 8,
   "metadata": {},
   "outputs": [
    {
     "data": {
      "text/html": [
       "<div>\n",
       "<style scoped>\n",
       "    .dataframe tbody tr th:only-of-type {\n",
       "        vertical-align: middle;\n",
       "    }\n",
       "\n",
       "    .dataframe tbody tr th {\n",
       "        vertical-align: top;\n",
       "    }\n",
       "\n",
       "    .dataframe thead th {\n",
       "        text-align: right;\n",
       "    }\n",
       "</style>\n",
       "<table border=\"1\" class=\"dataframe\">\n",
       "  <thead>\n",
       "    <tr style=\"text-align: right;\">\n",
       "      <th></th>\n",
       "      <th>metadata.licenseurl</th>\n",
       "      <th>metadata.creator</th>\n",
       "      <th>metadata.title</th>\n",
       "      <th>metadata.credits</th>\n",
       "    </tr>\n",
       "  </thead>\n",
       "  <tbody>\n",
       "    <tr>\n",
       "      <th>10</th>\n",
       "      <td>None</td>\n",
       "      <td>None</td>\n",
       "      <td>None</td>\n",
       "      <td>None</td>\n",
       "    </tr>\n",
       "    <tr>\n",
       "      <th>134</th>\n",
       "      <td>None</td>\n",
       "      <td>None</td>\n",
       "      <td>None</td>\n",
       "      <td>None</td>\n",
       "    </tr>\n",
       "    <tr>\n",
       "      <th>199</th>\n",
       "      <td>None</td>\n",
       "      <td>None</td>\n",
       "      <td>None</td>\n",
       "      <td>None</td>\n",
       "    </tr>\n",
       "    <tr>\n",
       "      <th>200</th>\n",
       "      <td>None</td>\n",
       "      <td>None</td>\n",
       "      <td>None</td>\n",
       "      <td>None</td>\n",
       "    </tr>\n",
       "    <tr>\n",
       "      <th>249</th>\n",
       "      <td>None</td>\n",
       "      <td>None</td>\n",
       "      <td>None</td>\n",
       "      <td>None</td>\n",
       "    </tr>\n",
       "    <tr>\n",
       "      <th>...</th>\n",
       "      <td>...</td>\n",
       "      <td>...</td>\n",
       "      <td>...</td>\n",
       "      <td>...</td>\n",
       "    </tr>\n",
       "    <tr>\n",
       "      <th>63589</th>\n",
       "      <td>None</td>\n",
       "      <td>None</td>\n",
       "      <td>None</td>\n",
       "      <td>None</td>\n",
       "    </tr>\n",
       "    <tr>\n",
       "      <th>63590</th>\n",
       "      <td>None</td>\n",
       "      <td>None</td>\n",
       "      <td>None</td>\n",
       "      <td>None</td>\n",
       "    </tr>\n",
       "    <tr>\n",
       "      <th>63591</th>\n",
       "      <td>None</td>\n",
       "      <td>None</td>\n",
       "      <td>None</td>\n",
       "      <td>None</td>\n",
       "    </tr>\n",
       "    <tr>\n",
       "      <th>63592</th>\n",
       "      <td>None</td>\n",
       "      <td>None</td>\n",
       "      <td>None</td>\n",
       "      <td>None</td>\n",
       "    </tr>\n",
       "    <tr>\n",
       "      <th>63593</th>\n",
       "      <td>None</td>\n",
       "      <td>None</td>\n",
       "      <td>None</td>\n",
       "      <td>None</td>\n",
       "    </tr>\n",
       "  </tbody>\n",
       "</table>\n",
       "<p>48411 rows × 4 columns</p>\n",
       "</div>"
      ],
      "text/plain": [
       "      metadata.licenseurl metadata.creator metadata.title metadata.credits\n",
       "10                   None             None           None             None\n",
       "134                  None             None           None             None\n",
       "199                  None             None           None             None\n",
       "200                  None             None           None             None\n",
       "249                  None             None           None             None\n",
       "...                   ...              ...            ...              ...\n",
       "63589                None             None           None             None\n",
       "63590                None             None           None             None\n",
       "63591                None             None           None             None\n",
       "63592                None             None           None             None\n",
       "63593                None             None           None             None\n",
       "\n",
       "[48411 rows x 4 columns]"
      ]
     },
     "execution_count": 8,
     "metadata": {},
     "output_type": "execute_result"
    }
   ],
   "source": [
    "df_pd[df_pd['metadata.licenseurl'].isna()]"
   ]
  },
  {
   "cell_type": "code",
   "execution_count": 9,
   "metadata": {},
   "outputs": [
    {
     "data": {
      "text/plain": [
       "array(['http://creativecommons.org/publicdomain/mark/1.0/', None,\n",
       "       'https://creativecommons.org/licenses/by/3.0/',\n",
       "       'http://creativecommons.org/publicdomain/zero/1.0/',\n",
       "       'http://creativecommons.org/licenses/by/3.0/',\n",
       "       'https://creativecommons.org/licenses/by/3.0',\n",
       "       'http://creativecommons.org/licenses/by/4.0/',\n",
       "       'http://creativecommons.org/licenses/publicdomain/',\n",
       "       'https://creativecommons.org/licenses/cc0/3.0/',\n",
       "       'https://creativecommons.org/licenses/by/4.0/',\n",
       "       'http://creativecommons.org/licenses/by/3.0/us/',\n",
       "       'http://creativecommons.org/licenses/by/2.5/',\n",
       "       'http://creativecommons.org/licenses/by/2.0/',\n",
       "       'http://creativecommons.org/licenses/by/2.5/pl/',\n",
       "       'http://creativecommons.org/licenses/by/2.5/it/',\n",
       "       '[\"https://creativecommons.org/licenses/by/3.0/\",\"https://creativecommons.org/licenses/by/3.0/\",\"https://creativecommons.org/licenses/by/3.0/\",\"https://creativecommons.org/licenses/by/3.0/\"]',\n",
       "       'http://creativecommons.org/licenses/by/2.5/ar/',\n",
       "       'https://www.usa.gov/government-works',\n",
       "       'https://creativecommons.org/publicdomain/zero/1.0/',\n",
       "       'http://creativecommons.org/licenses/publicdomain'], dtype=object)"
      ]
     },
     "execution_count": 9,
     "metadata": {},
     "output_type": "execute_result"
    }
   ],
   "source": [
    "df_pd['metadata.licenseurl'].unique()"
   ]
  },
  {
   "cell_type": "markdown",
   "metadata": {},
   "source": [
    "## Filter values by  license"
   ]
  },
  {
   "cell_type": "code",
   "execution_count": 10,
   "metadata": {},
   "outputs": [
    {
     "name": "stdout",
     "output_type": "stream",
     "text": [
      "+--------------------+--------------------+--------------------+--------------------+\n",
      "|          licenseurl|             creator|               title|             credits|\n",
      "+--------------------+--------------------+--------------------+--------------------+\n",
      "|http://creativeco...|Lamont-Clemens, Inc.|Tomorrow Always C...|Produced by Burne...|\n",
      "|http://creativeco...|                AT86|00 Bienvenido A L...|                null|\n",
      "|http://creativeco...|          Matrixland|00 Bienvenido A L...|                null|\n",
      "|http://creativeco...|                Open|Open Friday | Apr...|                null|\n",
      "|http://creativeco...|                Open|02777 A Open Apri...|                null|\n",
      "|http://creativeco...|  Francisco Betances|Open Monday | Jun...|                null|\n",
      "|http://creativeco...|  Francisco Betances|Open Wednesday | ...|                null|\n",
      "|http://creativeco...|  Francisco Betances|Open Wednesday | ...|                null|\n",
      "|http://creativeco...|                Open|Open Wednesday | ...|                null|\n",
      "|http://creativeco...|  Francisco Betances|Open Friday | May...|                null|\n",
      "|http://creativeco...|     Donald Phillips|Saturday Matinee: 06|                null|\n",
      "|http://creativeco...|     Donald Phillips|Saturday Matinee: 07|                null|\n",
      "|http://creativeco...|Akakū Maui Commun...|Hawaii Farmers Un...|                null|\n",
      "|http://creativeco...|         Radio Islam|07 Ml. Z. Ragi Ji...|                null|\n",
      "|http://creativeco...|        aula abierta|Historia de Rusia...|                null|\n",
      "|https://creativec...|     City of Holland|1-12-16 Early Bir...|                null|\n",
      "|https://creativec...|     City of Holland|1-12-16 Planning ...|                null|\n",
      "|https://creativec...|     City of Holland|1-18-17 City Council|                null|\n",
      "|https://creativec...|     City of Holland|1-18-18 City Coun...|                null|\n",
      "|https://creativec...|     City of Holland|1-21 City Council...|                null|\n",
      "+--------------------+--------------------+--------------------+--------------------+\n",
      "only showing top 20 rows\n",
      "\n"
     ]
    }
   ],
   "source": [
    "df = (df.withColumnRenamed('metadata.licenseurl','licenseurl').withColumnRenamed('metadata.creator', 'creator')\n",
    "     .withColumnRenamed('metadata.title', 'title').withColumnRenamed('metadata.credits', 'credits'))\n",
    "df = df.dropna(subset=['licenseurl'])\n",
    "df.show()"
   ]
  },
  {
   "cell_type": "code",
   "execution_count": 11,
   "metadata": {
    "scrolled": true
   },
   "outputs": [
    {
     "name": "stdout",
     "output_type": "stream",
     "text": [
      "+--------------------+--------------------+--------------------+-------+\n",
      "|          licenseurl|             creator|               title|credits|\n",
      "+--------------------+--------------------+--------------------+-------+\n",
      "|https://creativec...|     City of Holland|1-12-16 Early Bir...|   null|\n",
      "|https://creativec...|     City of Holland|1-12-16 Planning ...|   null|\n",
      "|https://creativec...|     City of Holland|1-18-17 City Council|   null|\n",
      "|https://creativec...|     City of Holland|1-18-18 City Coun...|   null|\n",
      "|https://creativec...|     City of Holland|1-21 City Council...|   null|\n",
      "|https://creativec...|     City of Holland|1-22 City Council...|   null|\n",
      "|https://creativec...|     City of Holland|1-23 Board of App...|   null|\n",
      "|https://creativec...|     City of Holland|1-25-18 Board of ...|   null|\n",
      "|https://creativec...|     City of Holland|1-26-17 Board of ...|   null|\n",
      "|https://creativec...|     City of Holland|1-28-16 Board of ...|   null|\n",
      "|https://creativec...|     City of Holland|1-3-18 City Counc...|   null|\n",
      "|https://creativec...|     City of Holland| 1-4-17 City Council|   null|\n",
      "|https://creativec...|     City of Holland|1-5-16 Historic D...|   null|\n",
      "|https://creativec...|     City of Holland| 1-6-16 City Council|   null|\n",
      "|https://creativec...|     City of Holland|1-9-18 Planning C...|   null|\n",
      "|http://creativeco...|Saint Paul Neighb...|1.9 Billion Dolla...|   null|\n",
      "|https://creativec...|     City of Holland|10-1-14 City Council|   null|\n",
      "|https://creativec...|     City of Holland|10-10-17LivingSus...|   null|\n",
      "|https://creativec...|     City of Holland|10-10-17 Historic...|   null|\n",
      "|https://creativec...|     City of Holland|   10-11-16 Planning|   null|\n",
      "+--------------------+--------------------+--------------------+-------+\n",
      "only showing top 20 rows\n",
      "\n"
     ]
    }
   ],
   "source": [
    "regexp = r'\\b(http|https)://creativecommons.org/licenses/by\\b'\n",
    "df = df.filter(df['licenseurl'].rlike(regexp))\n",
    "df.show()"
   ]
  },
  {
   "cell_type": "markdown",
   "metadata": {},
   "source": [
    "## Types of licences"
   ]
  },
  {
   "cell_type": "code",
   "execution_count": 12,
   "metadata": {},
   "outputs": [
    {
     "data": {
      "text/plain": [
       "['https://creativecommons.org/licenses/by/4.0/',\n",
       " '[\"https://creativecommons.org/licenses/by/3.0/\",\"https://creativecommons.org/licenses/by/3.0/\",\"https://creativecommons.org/licenses/by/3.0/\",\"https://creativecommons.org/licenses/by/3.0/\"]',\n",
       " 'https://creativecommons.org/licenses/by/3.0/',\n",
       " 'http://creativecommons.org/licenses/by/2.0/',\n",
       " 'http://creativecommons.org/licenses/by/3.0/',\n",
       " 'https://creativecommons.org/licenses/by/3.0',\n",
       " 'http://creativecommons.org/licenses/by/2.5/',\n",
       " 'http://creativecommons.org/licenses/by/2.5/pl/',\n",
       " 'http://creativecommons.org/licenses/by/2.5/it/',\n",
       " 'http://creativecommons.org/licenses/by/4.0/',\n",
       " 'http://creativecommons.org/licenses/by/3.0/us/',\n",
       " 'http://creativecommons.org/licenses/by/2.5/ar/']"
      ]
     },
     "execution_count": 12,
     "metadata": {},
     "output_type": "execute_result"
    }
   ],
   "source": [
    "licenses_url = df.select('licenseurl').distinct().collect()\n",
    "licenses_urls = []\n",
    "for license in licenses_url:\n",
    "    licenses_urls.append(license[0])\n",
    "licenses_urls"
   ]
  },
  {
   "cell_type": "markdown",
   "metadata": {},
   "source": [
    "## Convert to SQL"
   ]
  },
  {
   "cell_type": "code",
   "execution_count": 12,
   "metadata": {},
   "outputs": [],
   "source": [
    "df.createOrReplaceTempView(\"CC_BY_creators\")"
   ]
  },
  {
   "cell_type": "code",
   "execution_count": 13,
   "metadata": {},
   "outputs": [
    {
     "name": "stdout",
     "output_type": "stream",
     "text": [
      "+--------------------+--------------------+--------------------+-------+\n",
      "|          licenseurl|             creator|               title|credits|\n",
      "+--------------------+--------------------+--------------------+-------+\n",
      "|https://creativec...|     City of Holland|1-12-16 Early Bir...|   null|\n",
      "|https://creativec...|     City of Holland|1-12-16 Planning ...|   null|\n",
      "|https://creativec...|     City of Holland|1-18-17 City Council|   null|\n",
      "|https://creativec...|     City of Holland|1-18-18 City Coun...|   null|\n",
      "|https://creativec...|     City of Holland|1-21 City Council...|   null|\n",
      "|https://creativec...|     City of Holland|1-22 City Council...|   null|\n",
      "|https://creativec...|     City of Holland|1-23 Board of App...|   null|\n",
      "|https://creativec...|     City of Holland|1-25-18 Board of ...|   null|\n",
      "|https://creativec...|     City of Holland|1-26-17 Board of ...|   null|\n",
      "|https://creativec...|     City of Holland|1-28-16 Board of ...|   null|\n",
      "|https://creativec...|     City of Holland|1-3-18 City Counc...|   null|\n",
      "|https://creativec...|     City of Holland| 1-4-17 City Council|   null|\n",
      "|https://creativec...|     City of Holland|1-5-16 Historic D...|   null|\n",
      "|https://creativec...|     City of Holland| 1-6-16 City Council|   null|\n",
      "|https://creativec...|     City of Holland|1-9-18 Planning C...|   null|\n",
      "|http://creativeco...|Saint Paul Neighb...|1.9 Billion Dolla...|   null|\n",
      "|https://creativec...|     City of Holland|10-1-14 City Council|   null|\n",
      "|https://creativec...|     City of Holland|10-10-17LivingSus...|   null|\n",
      "|https://creativec...|     City of Holland|10-10-17 Historic...|   null|\n",
      "|https://creativec...|     City of Holland|   10-11-16 Planning|   null|\n",
      "+--------------------+--------------------+--------------------+-------+\n",
      "only showing top 20 rows\n",
      "\n"
     ]
    }
   ],
   "source": [
    "spark.sql('SELECT * FROM CC_BY_creators').show()"
   ]
  },
  {
   "cell_type": "code",
   "execution_count": 14,
   "metadata": {},
   "outputs": [
    {
     "data": {
      "text/plain": [
       "MapPartitionsRDD[43] at toJavaRDD at NativeMethodAccessorImpl.java:0"
      ]
     },
     "execution_count": 14,
     "metadata": {},
     "output_type": "execute_result"
    }
   ],
   "source": []
  },
  {
   "cell_type": "markdown",
   "metadata": {},
   "source": [
    "## Save as txt"
   ]
  },
  {
   "cell_type": "code",
   "execution_count": null,
   "metadata": {
    "scrolled": true
   },
   "outputs": [],
   "source": [
    "def myConcat(*cols):\n",
    "    concat_columns = []\n",
    "    for c in cols[:-1]:\n",
    "        concat_columns.append(F.coalesce(c, F.lit(\"*\")))\n",
    "        concat_columns.append(F.lit(\" \"))  \n",
    "    concat_columns.append(F.coalesce(cols[-1], F.lit(\"*\")))\n",
    "    return F.concat(*concat_columns)\n",
    "\n",
    "df = df.withColumn(\"credits\", myConcat(*df.columns)).select(\"credits\")\n",
    "df.coalesce(1).write.format(\"text\").option(\"header\", \"false\").mode(\"append\").save(\"credits.txt\")"
   ]
  },
  {
   "cell_type": "code",
   "execution_count": null,
   "metadata": {},
   "outputs": [],
   "source": []
  }
 ],
 "metadata": {
  "anaconda-cloud": {},
  "kernelspec": {
   "display_name": "Python 3",
   "language": "python",
   "name": "python3"
  },
  "language_info": {
   "codemirror_mode": {
    "name": "ipython",
    "version": 3
   },
   "file_extension": ".py",
   "mimetype": "text/x-python",
   "name": "python",
   "nbconvert_exporter": "python",
   "pygments_lexer": "ipython3",
   "version": "3.8.5"
  }
 },
 "nbformat": 4,
 "nbformat_minor": 4
}
