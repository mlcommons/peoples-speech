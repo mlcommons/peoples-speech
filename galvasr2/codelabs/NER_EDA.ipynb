{
 "cells": [
  {
   "cell_type": "code",
   "execution_count": 23,
   "metadata": {
    "scrolled": true
   },
   "outputs": [],
   "source": [
    "import logging\n",
    "from langdetect import detect\n",
    "import warnings\n",
    "from tqdm import tqdm\n",
    "from ktrain import text \n",
    "from flair.data import Sentence\n",
    "from flair.models import SequenceTagger\n",
    "import pandas as pd\n",
    "\n",
    "from galvasr2.align.spark.align_lib import load_audio_id_text_id_mapping, load_transcripts\n",
    "\n",
    "\n",
    "warnings.filterwarnings(\"ignore\")\n",
    "\n",
    "spark = SparkSession.builder \\\n",
    "                      .master(\"local[*]\") \\\n",
    "                      .appName(\"NER\") \\\n",
    "                      .config(\"spark.sql.execution.arrow.pyspark.enabled\", \"true\")\\\n",
    "                      .config(\"spark.driver.extraJavaOptions\", \"-Dio.netty.tryReflectionSetAccessible=true\")\\\n",
    "                      .config(\"spark.executor.extraJavaOptions\", \"-Dio.netty.tryReflectionSetAccessible=true\")\\\n",
    "                      .config(\"spark.driver.memory\", \"40g\")\\\n",
    "                      .config(\"spark.executor.memory\", \"40g\")\\\n",
    "                      .config(\"spark.rpc.askTimeout\", \"480s\")\\\n",
    "                      .config(\"spark.executor.heartbeatInterval\", \"20000ms\")\\\n",
    "                      .config(\"spark.eventLog.enabled\", \"true\")\\\n",
    "                      .getOrCreate()"
   ]
  },
  {
   "cell_type": "code",
   "execution_count": null,
   "metadata": {},
   "outputs": [
    {
     "name": "stdout",
     "output_type": "stream",
     "text": [
      "76627\n"
     ]
    }
   ],
   "source": [
    "%%time\n",
    "# spark.sparkContext.setLogLevel(\"INFO\") # \"ALL\" for very verbose logging                                                                                                                                   \n",
    "logging.getLogger(\"py4j\").setLevel(logging.ERROR)\n",
    "catalogue_df = load_audio_id_text_id_mapping(spark, \"gs://the-peoples-speech-west-europe/archive_org/Mar_7_2021/CC_BY_SA_EXPANDED_LICENSES_FILTERED_ACCESS.jsonl.gz\")\n",
    "training_sample_rows = catalogue_df.collect()\n",
    "\n",
    "# Comment this out to load everything. It might takes ~15 minute, in my experience, on an 8 core machine.\n",
    "print(len(training_sample_rows))\n",
    "\n",
    "training_sample_rows = training_sample_rows[:500]\n",
    "transcripts_df = load_transcripts(spark,\n",
    "                                  \"gs://the-peoples-speech-west-europe/archive_org/Mar_7_2021/CC_BY_SA_EXPANDED_LICENSES_FILTERED_ACCESS\",\n",
    "                                  training_sample_rows)\n",
    "transcripts_pdf = transcripts_df.toPandas()\n",
    "print(transcripts_pdf.count())\n",
    "transcripts_pdf.head()"
   ]
  },
  {
   "cell_type": "code",
   "execution_count": null,
   "metadata": {},
   "outputs": [],
   "source": [
    "%%time\n",
    "def detect_lan(row):\n",
    "    try:\n",
    "        return detect(row)\n",
    "    except:\n",
    "        return 'problem'\n",
    "transcripts_pdf['language'] = transcripts_pdf['transcript'].apply(detect_lan)\n",
    "transcripts_pdf.head()"
   ]
  },
  {
   "cell_type": "code",
   "execution_count": null,
   "metadata": {},
   "outputs": [],
   "source": [
    "transcripts_pdf['language'].value_counts().plot(kind='bar')"
   ]
  },
  {
   "cell_type": "code",
   "execution_count": null,
   "metadata": {},
   "outputs": [],
   "source": [
    "transcripts_pdf['language'].value_counts()"
   ]
  },
  {
   "cell_type": "markdown",
   "metadata": {},
   "source": [
    "## Zero shot classification"
   ]
  },
  {
   "cell_type": "code",
   "execution_count": 10,
   "metadata": {},
   "outputs": [
    {
     "name": "stdout",
     "output_type": "stream",
     "text": [
      "CPU times: user 18min 4s, sys: 1min 52s, total: 19min 56s\n",
      "Wall time: 9min 14s\n"
     ]
    },
    {
     "data": {
      "text/html": [
       "<div>\n",
       "<style scoped>\n",
       "    .dataframe tbody tr th:only-of-type {\n",
       "        vertical-align: middle;\n",
       "    }\n",
       "\n",
       "    .dataframe tbody tr th {\n",
       "        vertical-align: top;\n",
       "    }\n",
       "\n",
       "    .dataframe thead th {\n",
       "        text-align: right;\n",
       "    }\n",
       "</style>\n",
       "<table border=\"1\" class=\"dataframe\">\n",
       "  <thead>\n",
       "    <tr style=\"text-align: right;\">\n",
       "      <th></th>\n",
       "      <th>transcript</th>\n",
       "      <th>text_document_id</th>\n",
       "      <th>identifier</th>\n",
       "      <th>language</th>\n",
       "      <th>classification</th>\n",
       "    </tr>\n",
       "  </thead>\n",
       "  <tbody>\n",
       "    <tr>\n",
       "      <th>0</th>\n",
       "      <td>good morning good morning   good morning the c...</td>\n",
       "      <td>gov.house.ogr.ns.20091001.auto.srt</td>\n",
       "      <td>gov.house.ogr.ns.20091001</td>\n",
       "      <td>en</td>\n",
       "      <td>communication services</td>\n",
       "    </tr>\n",
       "    <tr>\n",
       "      <th>1</th>\n",
       "      <td>[Music] call to order the regular meeting of t...</td>\n",
       "      <td>51525_captions.srt</td>\n",
       "      <td>om-400-51525</td>\n",
       "      <td>en</td>\n",
       "      <td>television</td>\n",
       "    </tr>\n",
       "    <tr>\n",
       "      <th>2</th>\n",
       "      <td>finally this subcommittee finally this subcomm...</td>\n",
       "      <td>gov.house.ogr.fw.20090708.1.auto.srt</td>\n",
       "      <td>gov.house.ogr.fw.20090708.1</td>\n",
       "      <td>en</td>\n",
       "      <td>politics</td>\n",
       "    </tr>\n",
       "    <tr>\n",
       "      <th>3</th>\n",
       "      <td>Good morning everyone. The legislative hearing...</td>\n",
       "      <td>hrs09RES1324_080515.asr.srt</td>\n",
       "      <td>hrs09RES1324_080515</td>\n",
       "      <td>en</td>\n",
       "      <td>food</td>\n",
       "    </tr>\n",
       "    <tr>\n",
       "      <th>4</th>\n",
       "      <td>good morning the Subcommittee on good morning ...</td>\n",
       "      <td>gov.house.ogr.fw.20100727.1.auto.srt</td>\n",
       "      <td>gov.house.ogr.fw.20100727.1</td>\n",
       "      <td>en</td>\n",
       "      <td>communication services</td>\n",
       "    </tr>\n",
       "  </tbody>\n",
       "</table>\n",
       "</div>"
      ],
      "text/plain": [
       "                                          transcript  \\\n",
       "0  good morning good morning   good morning the c...   \n",
       "1  [Music] call to order the regular meeting of t...   \n",
       "2  finally this subcommittee finally this subcomm...   \n",
       "3  Good morning everyone. The legislative hearing...   \n",
       "4  good morning the Subcommittee on good morning ...   \n",
       "\n",
       "                       text_document_id                   identifier language  \\\n",
       "0    gov.house.ogr.ns.20091001.auto.srt    gov.house.ogr.ns.20091001       en   \n",
       "1                    51525_captions.srt                 om-400-51525       en   \n",
       "2  gov.house.ogr.fw.20090708.1.auto.srt  gov.house.ogr.fw.20090708.1       en   \n",
       "3           hrs09RES1324_080515.asr.srt          hrs09RES1324_080515       en   \n",
       "4  gov.house.ogr.fw.20100727.1.auto.srt  gov.house.ogr.fw.20100727.1       en   \n",
       "\n",
       "           classification  \n",
       "0  communication services  \n",
       "1              television  \n",
       "2                politics  \n",
       "3                    food  \n",
       "4  communication services  "
      ]
     },
     "execution_count": 10,
     "metadata": {},
     "output_type": "execute_result"
    }
   ],
   "source": [
    "%%time\n",
    "zsl = text.ZeroShotClassifier()\n",
    "labels=['politics', 'elections', 'sports', 'films', 'television', 'artificial intelligence',\n",
    "       'food', 'healthy', 'Information technology', 'financials', 'communication services',\n",
    "       'mlcommons']\n",
    "def get_top_class(row):\n",
    "    try:\n",
    "        row = row[:1500]\n",
    "        classification = zsl.predict(row, labels=labels, include_labels=True, batch_size=1, multilabel=False)\n",
    "        classification.sort(key=lambda tup: tup[1])\n",
    "        return classification[-1][0]\n",
    "    except:\n",
    "        return 'problem'\n",
    "transcripts_pdf['classification'] = transcripts_pdf['transcript'].apply(get_top_class)\n",
    "transcripts_pdf.head()"
   ]
  },
  {
   "cell_type": "code",
   "execution_count": 11,
   "metadata": {},
   "outputs": [
    {
     "data": {
      "text/plain": [
       "<matplotlib.axes._subplots.AxesSubplot at 0x7fa976040c10>"
      ]
     },
     "execution_count": 11,
     "metadata": {},
     "output_type": "execute_result"
    },
    {
     "data": {
      "image/png": "[encoded data removed]",
      "text/plain": [
       "<Figure size 432x288 with 1 Axes>"
      ]
     },
     "metadata": {
      "needs_background": "light"
     },
     "output_type": "display_data"
    }
   ],
   "source": [
    "transcripts_pdf['classification'].value_counts().plot(kind='bar')"
   ]
  },
  {
   "cell_type": "markdown",
   "metadata": {},
   "source": [
    "## NER with hugginface (flair)"
   ]
  },
  {
   "cell_type": "code",
   "execution_count": 13,
   "metadata": {},
   "outputs": [
    {
     "name": "stdout",
     "output_type": "stream",
     "text": [
      "2021-05-28 18:00:30,264 loading file /root/.flair/models/ner-english-ontonotes-fast/0d55dd3b912da9cf26e003035a0c269a0e9ab222f0be1e48a3bbba3a58c0fed0.c9907cd5fde3ce84b71a4172e7ca03841cd81ab71d13eb68aa08b259f57c00b6\n",
      "CPU times: user 3.16 s, sys: 646 ms, total: 3.81 s\n",
      "Wall time: 3.91 s\n"
     ]
    }
   ],
   "source": [
    "%%time\n",
    "# load tagger\n",
    "tagger = SequenceTagger.load(\"flair/ner-english-ontonotes-fast\")\n",
    "\n",
    "ner_entities = {\n",
    "    'CARDINAL':[],\n",
    "    'DATE':[],\n",
    "    'EVENT':[],\n",
    "    'FAC':[],\n",
    "    'GPE':[],\n",
    "    'LANGUAGE':[],\n",
    "    'LAW':[],\n",
    "    'LOC':[],\n",
    "    'MONEY':[],\n",
    "    'NORP':[],\n",
    "    'ORDINAL':[],\n",
    "    'ORG':[],\n",
    "    'PERCENT':[],\n",
    "    'PERSON':[],\n",
    "    'PRODUCT':[],\n",
    "    'QUANTITY':[],\n",
    "    'TIME':[],\n",
    "    'WORK_OF_ART':[]\n",
    "}\n",
    "tagger = SequenceTagger.load(\"flair/ner-english-ontonotes-fast\")\n",
    "def get_top_class(tagger, row):\n",
    "    try:\n",
    "        sentence = Sentence(row)\n",
    "        tagger.predict(sentence)\n",
    "        for entity in sentence.get_spans('ner'):\n",
    "            ner_entities[entity.tag].append(entity.text) \n",
    "    except:\n",
    "        return 'problem'\n",
    "transcripts = transcripts_pdf['transcript'].values"
   ]
  },
  {
   "cell_type": "code",
   "execution_count": 14,
   "metadata": {},
   "outputs": [
    {
     "name": "stderr",
     "output_type": "stream",
     "text": [
      "100%|██████████| 500/500 [16:24<00:00,  1.97s/it]"
     ]
    },
    {
     "name": "stdout",
     "output_type": "stream",
     "text": [
      "CPU times: user 11min 31s, sys: 4min 54s, total: 16min 25s\n",
      "Wall time: 16min 24s\n"
     ]
    },
    {
     "name": "stderr",
     "output_type": "stream",
     "text": [
      "\n"
     ]
    }
   ],
   "source": [
    "%%time\n",
    "for i in tqdm(range(len(transcripts))):\n",
    "    get_top_class(tagger, transcripts[i][:12000])"
   ]
  },
  {
   "cell_type": "code",
   "execution_count": 15,
   "metadata": {},
   "outputs": [
    {
     "data": {
      "text/html": [
       "<div>\n",
       "<style scoped>\n",
       "    .dataframe tbody tr th:only-of-type {\n",
       "        vertical-align: middle;\n",
       "    }\n",
       "\n",
       "    .dataframe tbody tr th {\n",
       "        vertical-align: top;\n",
       "    }\n",
       "\n",
       "    .dataframe thead th {\n",
       "        text-align: right;\n",
       "    }\n",
       "</style>\n",
       "<table border=\"1\" class=\"dataframe\">\n",
       "  <thead>\n",
       "    <tr style=\"text-align: right;\">\n",
       "      <th></th>\n",
       "      <th>CARDINAL</th>\n",
       "      <th>DATE</th>\n",
       "      <th>EVENT</th>\n",
       "      <th>FAC</th>\n",
       "      <th>GPE</th>\n",
       "      <th>LANGUAGE</th>\n",
       "      <th>LAW</th>\n",
       "      <th>LOC</th>\n",
       "      <th>MONEY</th>\n",
       "      <th>NORP</th>\n",
       "      <th>ORDINAL</th>\n",
       "      <th>ORG</th>\n",
       "      <th>PERCENT</th>\n",
       "      <th>PERSON</th>\n",
       "      <th>PRODUCT</th>\n",
       "      <th>QUANTITY</th>\n",
       "      <th>TIME</th>\n",
       "      <th>WORK_OF_ART</th>\n",
       "    </tr>\n",
       "  </thead>\n",
       "  <tbody>\n",
       "    <tr>\n",
       "      <th>0</th>\n",
       "      <td>ninety five</td>\n",
       "      <td>five business days</td>\n",
       "      <td>New Year</td>\n",
       "      <td>the D.H .</td>\n",
       "      <td>US</td>\n",
       "      <td>English</td>\n",
       "      <td>HR 25-17</td>\n",
       "      <td>Southwest Asia</td>\n",
       "      <td>between $ 100 billion dollars</td>\n",
       "      <td>Balkan</td>\n",
       "      <td>first</td>\n",
       "      <td>the Subcommittee on national the Subcommittee ...</td>\n",
       "      <td>just over 50 percent</td>\n",
       "      <td>Lissa</td>\n",
       "      <td>the b f eight morrowind</td>\n",
       "      <td>26 miles</td>\n",
       "      <td>morning</td>\n",
       "      <td>the Pledge of Allegiance</td>\n",
       "    </tr>\n",
       "    <tr>\n",
       "      <th>1</th>\n",
       "      <td>ninety five</td>\n",
       "      <td>five business days</td>\n",
       "      <td>2017 Colfax</td>\n",
       "      <td>Green Building</td>\n",
       "      <td>US</td>\n",
       "      <td>English</td>\n",
       "      <td>HR 25-17</td>\n",
       "      <td>Southwest Asia</td>\n",
       "      <td>$ 100 billion dollars</td>\n",
       "      <td>Balkan</td>\n",
       "      <td>first</td>\n",
       "      <td>congress</td>\n",
       "      <td>just over 50 percent</td>\n",
       "      <td>Eliza</td>\n",
       "      <td>Flight thirty</td>\n",
       "      <td>39 miles</td>\n",
       "      <td>morning</td>\n",
       "      <td>the Pledge of Allegiance</td>\n",
       "    </tr>\n",
       "    <tr>\n",
       "      <th>2</th>\n",
       "      <td>ninety five</td>\n",
       "      <td>five business days</td>\n",
       "      <td>Eve five point seven</td>\n",
       "      <td>Buffalo Niagara International Airport</td>\n",
       "      <td>US</td>\n",
       "      <td>English</td>\n",
       "      <td>HR 25-17 HR 25-17 HR 25-17</td>\n",
       "      <td>Southwest Asia</td>\n",
       "      <td>$ 100 billion dollars</td>\n",
       "      <td>Colombian</td>\n",
       "      <td>first</td>\n",
       "      <td>United</td>\n",
       "      <td>just over 50 percent</td>\n",
       "      <td>Eliza</td>\n",
       "      <td>A.T.P</td>\n",
       "      <td>39 miles</td>\n",
       "      <td>morning</td>\n",
       "      <td>your testimony cock again in your testimony co...</td>\n",
       "    </tr>\n",
       "    <tr>\n",
       "      <th>3</th>\n",
       "      <td>just half</td>\n",
       "      <td>today</td>\n",
       "      <td>the Super Bowl</td>\n",
       "      <td>Metro</td>\n",
       "      <td>West Africa</td>\n",
       "      <td>English</td>\n",
       "      <td>the Endangered Species Act</td>\n",
       "      <td>Latin America</td>\n",
       "      <td>more than one trillion dollars</td>\n",
       "      <td>Colombian</td>\n",
       "      <td>first</td>\n",
       "      <td>United</td>\n",
       "      <td>a hundred percent</td>\n",
       "      <td>Eliza</td>\n",
       "      <td>Flight thirty</td>\n",
       "      <td>nine yards</td>\n",
       "      <td>7 p.m.</td>\n",
       "      <td>City Car Share</td>\n",
       "    </tr>\n",
       "    <tr>\n",
       "      <th>4</th>\n",
       "      <td>just half</td>\n",
       "      <td>today</td>\n",
       "      <td>Valentine 's Day</td>\n",
       "      <td>West Street</td>\n",
       "      <td>West Africa</td>\n",
       "      <td>English</td>\n",
       "      <td>the Marine Mammal Protection Act</td>\n",
       "      <td>Latin America</td>\n",
       "      <td>one trillion dollars</td>\n",
       "      <td>Colombian</td>\n",
       "      <td>first</td>\n",
       "      <td>Brize</td>\n",
       "      <td>about 9 percent</td>\n",
       "      <td>Johnson</td>\n",
       "      <td>Flight thirty seven</td>\n",
       "      <td>twenty acres</td>\n",
       "      <td>ten o'clock</td>\n",
       "      <td>Tulip Time</td>\n",
       "    </tr>\n",
       "  </tbody>\n",
       "</table>\n",
       "</div>"
      ],
      "text/plain": [
       "      CARDINAL                DATE                 EVENT  \\\n",
       "0  ninety five  five business days              New Year   \n",
       "1  ninety five  five business days           2017 Colfax   \n",
       "2  ninety five  five business days  Eve five point seven   \n",
       "3    just half               today        the Super Bowl   \n",
       "4    just half               today      Valentine 's Day   \n",
       "\n",
       "                                     FAC          GPE LANGUAGE  \\\n",
       "0                              the D.H .           US  English   \n",
       "1                         Green Building           US  English   \n",
       "2  Buffalo Niagara International Airport           US  English   \n",
       "3                                  Metro  West Africa  English   \n",
       "4                            West Street  West Africa  English   \n",
       "\n",
       "                                LAW             LOC  \\\n",
       "0                          HR 25-17  Southwest Asia   \n",
       "1                          HR 25-17  Southwest Asia   \n",
       "2        HR 25-17 HR 25-17 HR 25-17  Southwest Asia   \n",
       "3        the Endangered Species Act   Latin America   \n",
       "4  the Marine Mammal Protection Act   Latin America   \n",
       "\n",
       "                            MONEY       NORP ORDINAL  \\\n",
       "0   between $ 100 billion dollars     Balkan   first   \n",
       "1           $ 100 billion dollars     Balkan   first   \n",
       "2           $ 100 billion dollars  Colombian   first   \n",
       "3  more than one trillion dollars  Colombian   first   \n",
       "4            one trillion dollars  Colombian   first   \n",
       "\n",
       "                                                 ORG               PERCENT  \\\n",
       "0  the Subcommittee on national the Subcommittee ...  just over 50 percent   \n",
       "1                                           congress  just over 50 percent   \n",
       "2                                             United  just over 50 percent   \n",
       "3                                             United     a hundred percent   \n",
       "4                                              Brize       about 9 percent   \n",
       "\n",
       "    PERSON                  PRODUCT      QUANTITY         TIME  \\\n",
       "0    Lissa  the b f eight morrowind      26 miles      morning   \n",
       "1    Eliza            Flight thirty      39 miles      morning   \n",
       "2    Eliza                    A.T.P      39 miles      morning   \n",
       "3    Eliza            Flight thirty    nine yards       7 p.m.   \n",
       "4  Johnson      Flight thirty seven  twenty acres  ten o'clock   \n",
       "\n",
       "                                         WORK_OF_ART  \n",
       "0                           the Pledge of Allegiance  \n",
       "1                           the Pledge of Allegiance  \n",
       "2  your testimony cock again in your testimony co...  \n",
       "3                                     City Car Share  \n",
       "4                                         Tulip Time  "
      ]
     },
     "execution_count": 15,
     "metadata": {},
     "output_type": "execute_result"
    }
   ],
   "source": [
    "df_ner = pd.DataFrame.from_dict(ner_entities, orient='index').T\n",
    "df_ner.head()"
   ]
  },
  {
   "cell_type": "code",
   "execution_count": 16,
   "metadata": {
    "scrolled": true
   },
   "outputs": [
    {
     "data": {
      "text/plain": [
       "American       12.970711\n",
       "Indian          3.974895\n",
       "German          3.242678\n",
       "Americans       2.928870\n",
       "Christian       2.719665\n",
       "                 ...    \n",
       "Englishman      0.104603\n",
       "Millerites      0.104603\n",
       "Scotch          0.104603\n",
       "californian     0.104603\n",
       "Fatherland      0.104603\n",
       "Name: NORP, Length: 236, dtype: float64"
      ]
     },
     "execution_count": 16,
     "metadata": {},
     "output_type": "execute_result"
    }
   ],
   "source": [
    "df_ner['NORP'].value_counts(normalize=True) * 100"
   ]
  },
  {
   "cell_type": "code",
   "execution_count": 17,
   "metadata": {},
   "outputs": [
    {
     "data": {
      "text/plain": [
       "English      59.701493\n",
       "Spanish       7.462687\n",
       "German        5.970149\n",
       "Farsi         4.477612\n",
       "Russian       4.477612\n",
       "Italian       2.985075\n",
       "French        2.985075\n",
       "Afrikaans     2.985075\n",
       "Arabic        1.492537\n",
       "Latin         1.492537\n",
       "Romanian      1.492537\n",
       "Basque        1.492537\n",
       "Chinese       1.492537\n",
       "Indian        1.492537\n",
       "Name: LANGUAGE, dtype: float64"
      ]
     },
     "execution_count": 17,
     "metadata": {},
     "output_type": "execute_result"
    }
   ],
   "source": [
    "df_ner['LANGUAGE'].value_counts(normalize=True) * 100"
   ]
  },
  {
   "cell_type": "code",
   "execution_count": 18,
   "metadata": {},
   "outputs": [
    {
     "data": {
      "text/plain": [
       "Broadway                        4.149378\n",
       "the White House                 2.904564\n",
       "the United Center               2.074689\n",
       "thirty second Street            1.659751\n",
       "Laurel Street                   1.659751\n",
       "                                  ...   \n",
       "District of South Burlington    0.414938\n",
       "Lowertown                       0.414938\n",
       "Two Arena                       0.414938\n",
       "US Highway                      0.414938\n",
       "a Festival Hall                 0.414938\n",
       "Name: FAC, Length: 187, dtype: float64"
      ]
     },
     "execution_count": 18,
     "metadata": {},
     "output_type": "execute_result"
    }
   ],
   "source": [
    "df_ner['FAC'].value_counts(normalize=True) * 100"
   ]
  },
  {
   "cell_type": "code",
   "execution_count": 19,
   "metadata": {},
   "outputs": [
    {
     "data": {
      "text/plain": [
       "Congress                                            3.785657\n",
       "the Supreme Court                                   3.652359\n",
       "Supreme Court                                       1.892829\n",
       "Court                                               1.786190\n",
       "F.D.A                                               1.599573\n",
       "                                                      ...   \n",
       "City Reserve                                        0.026660\n",
       "the Baptist Church                                  0.026660\n",
       "the United States Postal Service Service Service    0.026660\n",
       "The Department of Labor                             0.026660\n",
       "City Council                                        0.026660\n",
       "Name: ORG, Length: 1843, dtype: float64"
      ]
     },
     "execution_count": 19,
     "metadata": {},
     "output_type": "execute_result"
    }
   ],
   "source": [
    "df_ner['ORG'].value_counts(normalize=True) * 100"
   ]
  },
  {
   "cell_type": "code",
   "execution_count": 20,
   "metadata": {},
   "outputs": [
    {
     "data": {
      "text/plain": [
       "the United States    5.726257\n",
       "US                   3.407821\n",
       "United States        3.324022\n",
       "New York             3.072626\n",
       "America              2.653631\n",
       "                       ...   \n",
       "East St Louis        0.027933\n",
       "Charleston           0.027933\n",
       "Edmonds              0.027933\n",
       "Schwaben             0.027933\n",
       "Ongar                0.027933\n",
       "Name: GPE, Length: 741, dtype: float64"
      ]
     },
     "execution_count": 20,
     "metadata": {},
     "output_type": "execute_result"
    }
   ],
   "source": [
    "df_ner['GPE'].value_counts(normalize=True) * 100"
   ]
  },
  {
   "cell_type": "code",
   "execution_count": 21,
   "metadata": {},
   "outputs": [
    {
     "data": {
      "text/plain": [
       "West                 11.132438\n",
       "Europe                3.838772\n",
       "Earth                 3.646833\n",
       "Africa                3.262956\n",
       "East                  2.687140\n",
       "                       ...    \n",
       "Guantanamo Bay        0.191939\n",
       "Kootenay              0.191939\n",
       "a Power Point         0.191939\n",
       "the Western Front     0.191939\n",
       "Shangri-La            0.191939\n",
       "Name: LOC, Length: 254, dtype: float64"
      ]
     },
     "execution_count": 21,
     "metadata": {},
     "output_type": "execute_result"
    }
   ],
   "source": [
    "df_ner['LOC'].value_counts(normalize=True) * 100"
   ]
  },
  {
   "cell_type": "code",
   "execution_count": 22,
   "metadata": {},
   "outputs": [
    {
     "data": {
      "text/plain": [
       "the Lone Ranger    15.432099\n",
       "Lone Ranger         6.790123\n",
       "Discovery           3.086420\n",
       "a Lone Ranger       2.469136\n",
       "Mustang             2.469136\n",
       "                     ...    \n",
       "Agricola            0.617284\n",
       "Oreo                0.617284\n",
       "A.T.P               0.617284\n",
       "Cheerios            0.617284\n",
       "Mustang Krone       0.617284\n",
       "Name: PRODUCT, Length: 99, dtype: float64"
      ]
     },
     "execution_count": 22,
     "metadata": {},
     "output_type": "execute_result"
    }
   ],
   "source": [
    "df_ner['PRODUCT'].value_counts(normalize=True) * 100"
   ]
  }
 ],
 "metadata": {
  "kernelspec": {
   "display_name": "Python 3",
   "language": "python",
   "name": "python3"
  },
  "language_info": {
   "codemirror_mode": {
    "name": "ipython",
    "version": 3
   },
   "file_extension": ".py",
   "mimetype": "text/x-python",
   "name": "python",
   "nbconvert_exporter": "python",
   "pygments_lexer": "ipython3",
   "version": "3.7.6"
  }
 },
 "nbformat": 4,
 "nbformat_minor": 4
}
