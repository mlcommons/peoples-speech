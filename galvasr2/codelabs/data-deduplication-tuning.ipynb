{
 "cells": [
  {
   "cell_type": "code",
   "execution_count": null,
   "metadata": {},
   "outputs": [],
   "source": [
    "import pandas as pd\n",
    "pd.options.display.float_format = '{:20,.2f}'.format\n",
    "from datasketch import MinHash, MinHashLSH, MinHashLSHForest, MinHashLSHEnsemble\n",
    "from nltk import ngrams\n",
    "from tqdm import tqdm\n",
    "import numpy as np\n",
    "import itertools\n",
    "from sklearn.model_selection import train_test_split\n",
    "from sklearn.metrics import confusion_matrix, classification_report, roc_auc_score\n",
    "import seaborn as sn\n",
    "import matplotlib.pyplot as plt"
   ]
  },
  {
   "cell_type": "code",
   "execution_count": null,
   "metadata": {},
   "outputs": [],
   "source": [
    "df = pd.read_csv('Dataset_duplicate_train.csv')\n",
    "df.head()"
   ]
  },
  {
   "cell_type": "code",
   "execution_count": null,
   "metadata": {
    "scrolled": false
   },
   "outputs": [],
   "source": [
    "%%time\n",
    "# that accepts MinHash objects with 128 permutations functions\n",
    "data = df['text'].values\n",
    "num_perm = 128\n",
    "lsh = MinHashLSH(threshold=0.8, num_perm=num_perm)\n",
    " \n",
    "# Create MinHash objects\n",
    "minhashes = {}\n",
    "error = []\n",
    "for c, i in enumerate(tqdm(data)):\n",
    "    try:\n",
    "        if c%5000 == 0:\n",
    "            print(c)\n",
    "        minhash = MinHash(num_perm=num_perm)\n",
    "        for d in ngrams(i, 16):\n",
    "            minhash.update(\"\".join(d).encode('utf-8'))\n",
    "        lsh.insert(c, minhash)\n",
    "        minhashes[c] = minhash\n",
    "    except:\n",
    "        error.append(c)\n",
    "        pass \n",
    "\n",
    "    duplicate = []\n",
    "for i in range(len(minhashes.keys())):\n",
    "    try:\n",
    "        result = lsh.query(minhashes[i])\n",
    "        if len(result) > 1:\n",
    "            result.sort()\n",
    "            duplicate.append(result)\n",
    "    except:\n",
    "        pass\n",
    "duplicate.sort()\n",
    "duplicate = list(duplicate for duplicate, _ in itertools.groupby(duplicate))\n",
    "delete = []\n",
    "for value in duplicate:\n",
    "    delete.append(value[1:])\n",
    "delete = list(itertools.chain(*delete))"
   ]
  },
  {
   "cell_type": "code",
   "execution_count": null,
   "metadata": {},
   "outputs": [],
   "source": [
    "df['predict'] = np.where(df.index.isin(delete), 1, 0)\n",
    "plt.figure(figsize = (10,7))\n",
    "ax = plt.gca()\n",
    "ax.get_xaxis().get_major_formatter().set_scientific(False)\n",
    "labels = ['deduplicate', 'no-deduplicate']\n",
    "print(roc_auc_score(df['deduplicate'], df['predict']))\n",
    "sn.heatmap(confusion_matrix(df['deduplicate'], df['predict']), annot=True);"
   ]
  },
  {
   "cell_type": "markdown",
   "metadata": {},
   "source": [
    "## Evaluation test"
   ]
  },
  {
   "cell_type": "code",
   "execution_count": null,
   "metadata": {},
   "outputs": [],
   "source": [
    "df = pd.read_csv('Dataset_duplicate_test.csv')\n",
    "df_result = deduplicate_model(df_test, num_perm=128, ngram=16, threshold=0.6)\n",
    "roc_auc_score(df_result['deduplicate'], df_result['predict'])"
   ]
  },
  {
   "cell_type": "code",
   "execution_count": null,
   "metadata": {
    "scrolled": true
   },
   "outputs": [],
   "source": [
    "plt.figure(figsize = (10,7))\n",
    "ax = plt.gca()\n",
    "ax.get_xaxis().get_major_formatter().set_scientific(False)\n",
    "labels = ['deduplicate', 'no-deduplicate']\n",
    "sn.heatmap(confusion_matrix(df_result['deduplicate'], df_result['predict']), annot=True);"
   ]
  },
  {
   "cell_type": "code",
   "execution_count": null,
   "metadata": {
    "scrolled": true
   },
   "outputs": [],
   "source": [
    "print(classification_report(df['deduplicate'], df['predict']))"
   ]
  }
 ],
 "metadata": {
  "kernelspec": {
   "display_name": "Python 3",
   "language": "python",
   "name": "python3"
  },
  "language_info": {
   "codemirror_mode": {
    "name": "ipython",
    "version": 3
   },
   "file_extension": ".py",
   "mimetype": "text/x-python",
   "name": "python",
   "nbconvert_exporter": "python",
   "pygments_lexer": "ipython3",
   "version": "3.7.6"
  }
 },
 "nbformat": 4,
 "nbformat_minor": 4
}
