{
 "cells": [
  {
   "cell_type": "code",
   "execution_count": 2,
   "metadata": {
    "scrolled": true
   },
   "outputs": [
    {
     "name": "stderr",
     "output_type": "stream",
     "text": [
      "/install/miniconda3/envs/100k-hours-lingvo-3/lib/python3.7/importlib/_bootstrap.py:219: ImportWarning: can't resolve package from __spec__ or __package__, falling back on __name__ and __path__\n",
      "  return f(*args, **kwds)\n",
      "/install/miniconda3/envs/100k-hours-lingvo-3/lib/python3.7/importlib/_bootstrap.py:219: ImportWarning: can't resolve package from __spec__ or __package__, falling back on __name__ and __path__\n",
      "  return f(*args, **kwds)\n",
      "/install/miniconda3/envs/100k-hours-lingvo-3/lib/python3.7/importlib/_bootstrap.py:219: RuntimeWarning: numpy.ufunc size changed, may indicate binary incompatibility. Expected 192 from C header, got 216 from PyObject\n",
      "  return f(*args, **kwds)\n",
      "/install/miniconda3/envs/100k-hours-lingvo-3/lib/python3.7/importlib/_bootstrap.py:219: RuntimeWarning: numpy.ufunc size changed, may indicate binary incompatibility. Expected 192 from C header, got 216 from PyObject\n",
      "  return f(*args, **kwds)\n",
      "/install/miniconda3/envs/100k-hours-lingvo-3/lib/python3.7/importlib/_bootstrap.py:219: RuntimeWarning: numpy.ufunc size changed, may indicate binary incompatibility. Expected 192 from C header, got 216 from PyObject\n",
      "  return f(*args, **kwds)\n",
      "/install/miniconda3/envs/100k-hours-lingvo-3/lib/python3.7/importlib/_bootstrap.py:219: RuntimeWarning: numpy.ufunc size changed, may indicate binary incompatibility. Expected 192 from C header, got 216 from PyObject\n",
      "  return f(*args, **kwds)\n",
      "/install/miniconda3/envs/100k-hours-lingvo-3/lib/python3.7/importlib/_bootstrap.py:219: RuntimeWarning: numpy.ufunc size changed, may indicate binary incompatibility. Expected 192 from C header, got 216 from PyObject\n",
      "  return f(*args, **kwds)\n",
      "/install/miniconda3/envs/100k-hours-lingvo-3/lib/python3.7/importlib/_bootstrap.py:219: RuntimeWarning: numpy.ufunc size changed, may indicate binary incompatibility. Expected 192 from C header, got 216 from PyObject\n",
      "  return f(*args, **kwds)\n",
      "/install/miniconda3/envs/100k-hours-lingvo-3/lib/python3.7/importlib/_bootstrap.py:219: RuntimeWarning: numpy.ufunc size changed, may indicate binary incompatibility. Expected 192 from C header, got 216 from PyObject\n",
      "  return f(*args, **kwds)\n",
      "/install/miniconda3/envs/100k-hours-lingvo-3/lib/python3.7/importlib/_bootstrap.py:219: RuntimeWarning: numpy.ufunc size changed, may indicate binary incompatibility. Expected 192 from C header, got 216 from PyObject\n",
      "  return f(*args, **kwds)\n",
      "/install/miniconda3/envs/100k-hours-lingvo-3/lib/python3.7/importlib/_bootstrap.py:219: RuntimeWarning: numpy.ufunc size changed, may indicate binary incompatibility. Expected 192 from C header, got 216 from PyObject\n",
      "  return f(*args, **kwds)\n",
      "/install/miniconda3/envs/100k-hours-lingvo-3/lib/python3.7/importlib/_bootstrap.py:219: RuntimeWarning: numpy.ufunc size changed, may indicate binary incompatibility. Expected 192 from C header, got 216 from PyObject\n",
      "  return f(*args, **kwds)\n",
      "/install/miniconda3/envs/100k-hours-lingvo-3/lib/python3.7/importlib/_bootstrap.py:219: RuntimeWarning: numpy.ufunc size changed, may indicate binary incompatibility. Expected 192 from C header, got 216 from PyObject\n",
      "  return f(*args, **kwds)\n",
      "/install/miniconda3/envs/100k-hours-lingvo-3/lib/python3.7/importlib/_bootstrap.py:219: RuntimeWarning: numpy.ufunc size changed, may indicate binary incompatibility. Expected 192 from C header, got 216 from PyObject\n",
      "  return f(*args, **kwds)\n",
      "/install/miniconda3/envs/100k-hours-lingvo-3/lib/python3.7/importlib/_bootstrap.py:219: RuntimeWarning: numpy.ufunc size changed, may indicate binary incompatibility. Expected 192 from C header, got 216 from PyObject\n",
      "  return f(*args, **kwds)\n"
     ]
    }
   ],
   "source": [
    "import logging\n",
    "import warnings\n",
    "from tqdm import tqdm\n",
    "from langdetect import detect\n",
    "from ktrain import text \n",
    "\n",
    "from galvasr2.align.spark.align_lib import load_audio_id_text_id_mapping, load_transcripts\n",
    "\n",
    "warnings.filterwarnings(\"ignore\")\n",
    "\n",
    "spark = SparkSession.builder \\\n",
    "                      .master(\"local[*]\") \\\n",
    "                      .appName(\"NER\") \\\n",
    "                      .config(\"spark.sql.execution.arrow.pyspark.enabled\", \"true\")\\\n",
    "                      .config(\"spark.driver.extraJavaOptions\", \"-Dio.netty.tryReflectionSetAccessible=true\")\\\n",
    "                      .config(\"spark.executor.extraJavaOptions\", \"-Dio.netty.tryReflectionSetAccessible=true\")\\\n",
    "                      .config(\"spark.driver.memory\", \"40g\")\\\n",
    "                      .config(\"spark.executor.memory\", \"40g\")\\\n",
    "                      .config(\"spark.rpc.askTimeout\", \"480s\")\\\n",
    "                      .config(\"spark.executor.heartbeatInterval\", \"20000ms\")\\\n",
    "                      .config(\"spark.eventLog.enabled\", \"true\")\\\n",
    "                      .getOrCreate()"
   ]
  },
  {
   "cell_type": "code",
   "execution_count": 3,
   "metadata": {},
   "outputs": [
    {
     "name": "stdout",
     "output_type": "stream",
     "text": [
      "76627\n",
      "CPU times: user 1.95 s, sys: 1.08 s, total: 3.03 s\n",
      "Wall time: 1h 27min 56s\n"
     ]
    }
   ],
   "source": [
    "%%time\n",
    "# spark.sparkContext.setLogLevel(\"INFO\") # \"ALL\" for very verbose logging                                                                                                                                   \n",
    "logging.getLogger(\"py4j\").setLevel(logging.ERROR)\n",
    "catalogue_df = load_audio_id_text_id_mapping(spark, \"gs://the-peoples-speech-west-europe/archive_org/Mar_7_2021/CC_BY_SA_EXPANDED_LICENSES_FILTERED_ACCESS.jsonl.gz\")\n",
    "training_sample_rows = catalogue_df.collect()\n",
    "\n",
    "# Comment this out to load everything. It might takes ~15 minute, in my experience, on an 8 core machine.\n",
    "print(len(training_sample_rows))\n",
    "init_rows = 60000\n",
    "final_rows = 76627\n",
    "training_sample_rows = training_sample_rows[init_rows:final_rows]\n",
    "transcripts_df = load_transcripts(spark,\n",
    "                                  \"gs://the-peoples-speech-west-europe/archive_org/Mar_7_2021/CC_BY_SA_EXPANDED_LICENSES_FILTERED_ACCESS\",\n",
    "                                  training_sample_rows)\n",
    "transcripts_pdf = transcripts_df.toPandas()"
   ]
  },
  {
   "cell_type": "markdown",
   "metadata": {},
   "source": [
    "### Language detector"
   ]
  },
  {
   "cell_type": "code",
   "execution_count": 4,
   "metadata": {},
   "outputs": [
    {
     "name": "stdout",
     "output_type": "stream",
     "text": [
      "CPU times: user 7min 20s, sys: 2.17 s, total: 7min 22s\n",
      "Wall time: 7min 22s\n"
     ]
    },
    {
     "data": {
      "text/html": [
       "<div>\n",
       "<style scoped>\n",
       "    .dataframe tbody tr th:only-of-type {\n",
       "        vertical-align: middle;\n",
       "    }\n",
       "\n",
       "    .dataframe tbody tr th {\n",
       "        vertical-align: top;\n",
       "    }\n",
       "\n",
       "    .dataframe thead th {\n",
       "        text-align: right;\n",
       "    }\n",
       "</style>\n",
       "<table border=\"1\" class=\"dataframe\">\n",
       "  <thead>\n",
       "    <tr style=\"text-align: right;\">\n",
       "      <th></th>\n",
       "      <th>transcript</th>\n",
       "      <th>text_document_id</th>\n",
       "      <th>identifier</th>\n",
       "      <th>language</th>\n",
       "    </tr>\n",
       "  </thead>\n",
       "  <tbody>\n",
       "    <tr>\n",
       "      <th>0</th>\n",
       "      <td>30 can order 30 can order   30 can order purse...</td>\n",
       "      <td>gov.house.ogr.dp.20090618.auto.srt</td>\n",
       "      <td>gov.house.ogr.dp.20090618</td>\n",
       "      <td>en</td>\n",
       "    </tr>\n",
       "    <tr>\n",
       "      <th>1</th>\n",
       "      <td>I'm next I'm next   I'm next the House Rules C...</td>\n",
       "      <td>org.c-span.59184-1.auto.srt</td>\n",
       "      <td>org.c-span.59184-1</td>\n",
       "      <td>en</td>\n",
       "    </tr>\n",
       "    <tr>\n",
       "      <th>2</th>\n",
       "      <td>good morning good morning   good morning diffi...</td>\n",
       "      <td>gov.house.ogr.20080311_hrs02RFM2154.auto.srt</td>\n",
       "      <td>gov.house.ogr.20080311_hrs02RFM2154</td>\n",
       "      <td>en</td>\n",
       "    </tr>\n",
       "    <tr>\n",
       "      <th>3</th>\n",
       "      <td>Rule rule. The meeting of the oh god. The mike...</td>\n",
       "      <td>hrs02FINCrisisRm1100_100113.asr.srt</td>\n",
       "      <td>hrs02FINCrisisRm1100_100113</td>\n",
       "      <td>en</td>\n",
       "    </tr>\n",
       "    <tr>\n",
       "      <th>4</th>\n",
       "      <td>right like like   like but the government make...</td>\n",
       "      <td>gov.house.ogr.fw.20091118.auto.srt</td>\n",
       "      <td>gov.house.ogr.fw.20091118</td>\n",
       "      <td>en</td>\n",
       "    </tr>\n",
       "  </tbody>\n",
       "</table>\n",
       "</div>"
      ],
      "text/plain": [
       "                                          transcript  \\\n",
       "0  30 can order 30 can order   30 can order purse...   \n",
       "1  I'm next I'm next   I'm next the House Rules C...   \n",
       "2  good morning good morning   good morning diffi...   \n",
       "3  Rule rule. The meeting of the oh god. The mike...   \n",
       "4  right like like   like but the government make...   \n",
       "\n",
       "                               text_document_id  \\\n",
       "0            gov.house.ogr.dp.20090618.auto.srt   \n",
       "1                   org.c-span.59184-1.auto.srt   \n",
       "2  gov.house.ogr.20080311_hrs02RFM2154.auto.srt   \n",
       "3           hrs02FINCrisisRm1100_100113.asr.srt   \n",
       "4            gov.house.ogr.fw.20091118.auto.srt   \n",
       "\n",
       "                            identifier language  \n",
       "0            gov.house.ogr.dp.20090618       en  \n",
       "1                   org.c-span.59184-1       en  \n",
       "2  gov.house.ogr.20080311_hrs02RFM2154       en  \n",
       "3          hrs02FINCrisisRm1100_100113       en  \n",
       "4            gov.house.ogr.fw.20091118       en  "
      ]
     },
     "execution_count": 4,
     "metadata": {},
     "output_type": "execute_result"
    }
   ],
   "source": [
    "%%time\n",
    "def detect_lan(row):\n",
    "    try:\n",
    "        return detect(row)\n",
    "    except:\n",
    "        return 'problem'\n",
    "transcripts_pdf['language'] = transcripts_pdf['transcript'].apply(detect_lan)\n",
    "transcripts_pdf.head()"
   ]
  },
  {
   "cell_type": "code",
   "execution_count": 5,
   "metadata": {},
   "outputs": [
    {
     "data": {
      "text/plain": [
       "<matplotlib.axes._subplots.AxesSubplot at 0x7fdd545c2e90>"
      ]
     },
     "execution_count": 5,
     "metadata": {},
     "output_type": "execute_result"
    },
    {
     "data": {
      "image/png": "[encoded data removed]",
      "text/plain": [
       "<Figure size 432x288 with 1 Axes>"
      ]
     },
     "metadata": {
      "needs_background": "light"
     },
     "output_type": "display_data"
    }
   ],
   "source": [
    "transcripts_pdf['language'].value_counts().plot(kind='bar')"
   ]
  },
  {
   "cell_type": "code",
   "execution_count": 6,
   "metadata": {
    "scrolled": false
   },
   "outputs": [
    {
     "data": {
      "text/plain": [
       "en         16535\n",
       "problem       27\n",
       "fr            13\n",
       "de             8\n",
       "id             7\n",
       "it             6\n",
       "da             4\n",
       "hr             4\n",
       "vi             4\n",
       "cy             3\n",
       "sk             3\n",
       "af             2\n",
       "ca             2\n",
       "so             2\n",
       "sw             1\n",
       "lv             1\n",
       "hu             1\n",
       "no             1\n",
       "es             1\n",
       "Name: language, dtype: int64"
      ]
     },
     "execution_count": 6,
     "metadata": {},
     "output_type": "execute_result"
    }
   ],
   "source": [
    "transcripts_pdf['language'].value_counts()"
   ]
  },
  {
   "cell_type": "markdown",
   "metadata": {},
   "source": [
    "## Zero shot classification"
   ]
  },
  {
   "cell_type": "code",
   "execution_count": 8,
   "metadata": {},
   "outputs": [
    {
     "name": "stdout",
     "output_type": "stream",
     "text": [
      "CPU times: user 10h 52min 56s, sys: 1h 23min 51s, total: 12h 16min 47s\n",
      "Wall time: 7h 41min 10s\n"
     ]
    },
    {
     "data": {
      "text/html": [
       "<div>\n",
       "<style scoped>\n",
       "    .dataframe tbody tr th:only-of-type {\n",
       "        vertical-align: middle;\n",
       "    }\n",
       "\n",
       "    .dataframe tbody tr th {\n",
       "        vertical-align: top;\n",
       "    }\n",
       "\n",
       "    .dataframe thead th {\n",
       "        text-align: right;\n",
       "    }\n",
       "</style>\n",
       "<table border=\"1\" class=\"dataframe\">\n",
       "  <thead>\n",
       "    <tr style=\"text-align: right;\">\n",
       "      <th></th>\n",
       "      <th>transcript</th>\n",
       "      <th>text_document_id</th>\n",
       "      <th>identifier</th>\n",
       "      <th>language</th>\n",
       "      <th>classification</th>\n",
       "    </tr>\n",
       "  </thead>\n",
       "  <tbody>\n",
       "    <tr>\n",
       "      <th>0</th>\n",
       "      <td>30 can order 30 can order   30 can order purse...</td>\n",
       "      <td>gov.house.ogr.dp.20090618.auto.srt</td>\n",
       "      <td>gov.house.ogr.dp.20090618</td>\n",
       "      <td>en</td>\n",
       "      <td>Government</td>\n",
       "    </tr>\n",
       "    <tr>\n",
       "      <th>1</th>\n",
       "      <td>I'm next I'm next   I'm next the House Rules C...</td>\n",
       "      <td>org.c-span.59184-1.auto.srt</td>\n",
       "      <td>org.c-span.59184-1</td>\n",
       "      <td>en</td>\n",
       "      <td>Government</td>\n",
       "    </tr>\n",
       "    <tr>\n",
       "      <th>2</th>\n",
       "      <td>good morning good morning   good morning diffi...</td>\n",
       "      <td>gov.house.ogr.20080311_hrs02RFM2154.auto.srt</td>\n",
       "      <td>gov.house.ogr.20080311_hrs02RFM2154</td>\n",
       "      <td>en</td>\n",
       "      <td>Government</td>\n",
       "    </tr>\n",
       "    <tr>\n",
       "      <th>3</th>\n",
       "      <td>Rule rule. The meeting of the oh god. The mike...</td>\n",
       "      <td>hrs02FINCrisisRm1100_100113.asr.srt</td>\n",
       "      <td>hrs02FINCrisisRm1100_100113</td>\n",
       "      <td>en</td>\n",
       "      <td>Financials</td>\n",
       "    </tr>\n",
       "    <tr>\n",
       "      <th>4</th>\n",
       "      <td>right like like   like but the government make...</td>\n",
       "      <td>gov.house.ogr.fw.20091118.auto.srt</td>\n",
       "      <td>gov.house.ogr.fw.20091118</td>\n",
       "      <td>en</td>\n",
       "      <td>Government</td>\n",
       "    </tr>\n",
       "  </tbody>\n",
       "</table>\n",
       "</div>"
      ],
      "text/plain": [
       "                                          transcript  \\\n",
       "0  30 can order 30 can order   30 can order purse...   \n",
       "1  I'm next I'm next   I'm next the House Rules C...   \n",
       "2  good morning good morning   good morning diffi...   \n",
       "3  Rule rule. The meeting of the oh god. The mike...   \n",
       "4  right like like   like but the government make...   \n",
       "\n",
       "                               text_document_id  \\\n",
       "0            gov.house.ogr.dp.20090618.auto.srt   \n",
       "1                   org.c-span.59184-1.auto.srt   \n",
       "2  gov.house.ogr.20080311_hrs02RFM2154.auto.srt   \n",
       "3           hrs02FINCrisisRm1100_100113.asr.srt   \n",
       "4            gov.house.ogr.fw.20091118.auto.srt   \n",
       "\n",
       "                            identifier language classification  \n",
       "0            gov.house.ogr.dp.20090618       en     Government  \n",
       "1                   org.c-span.59184-1       en     Government  \n",
       "2  gov.house.ogr.20080311_hrs02RFM2154       en     Government  \n",
       "3          hrs02FINCrisisRm1100_100113       en     Financials  \n",
       "4            gov.house.ogr.fw.20091118       en     Government  "
      ]
     },
     "execution_count": 8,
     "metadata": {},
     "output_type": "execute_result"
    }
   ],
   "source": [
    "%%time\n",
    "zsl = text.ZeroShotClassifier()\n",
    "labels=[\"Government\", \"Lecture\", \"Lesson\", \"Interview\", \"Politics\", \"Sermon\", \"Documentary\", \"Elections\", \"Sport\",\n",
    "        \"Entertainment\", \"Healthy\", \"Artificial intelligence\", \"Financials\", \"Feed nutrition\", \"Radio\", \"Music\",\n",
    "        \"South America\", \"North America\", \"Asia\", \"Europe\", \"Australia\", \"Africa\", \"Religion\"]\n",
    "def get_top_class(row):\n",
    "    try:\n",
    "        row = row[:1200]\n",
    "        classification = zsl.predict(row, labels=labels, include_labels=True, batch_size=1, multilabel=False)\n",
    "        classification.sort(key=lambda tup: tup[1])\n",
    "        return classification[-1][0]\n",
    "    except:\n",
    "        return 'problem'\n",
    "transcripts_pdf['classification'] = transcripts_pdf['transcript'].apply(get_top_class)\n",
    "transcripts_pdf.head()"
   ]
  },
  {
   "cell_type": "code",
   "execution_count": 9,
   "metadata": {},
   "outputs": [
    {
     "data": {
      "text/plain": [
       "<matplotlib.axes._subplots.AxesSubplot at 0x7fdcb07a1b50>"
      ]
     },
     "execution_count": 9,
     "metadata": {},
     "output_type": "execute_result"
    },
    {
     "data": {
      "image/png": "[encoded data removed]",
      "text/plain": [
       "<Figure size 432x288 with 1 Axes>"
      ]
     },
     "metadata": {
      "needs_background": "light"
     },
     "output_type": "display_data"
    }
   ],
   "source": [
    "transcripts_pdf['classification'].value_counts().plot(kind='bar')"
   ]
  },
  {
   "cell_type": "code",
   "execution_count": 10,
   "metadata": {},
   "outputs": [],
   "source": [
    "transcripts_pdf.to_csv('ZeroClassification4.csv', index=None)"
   ]
  }
 ],
 "metadata": {
  "kernelspec": {
   "display_name": "Python 3",
   "language": "python",
   "name": "python3"
  },
  "language_info": {
   "codemirror_mode": {
    "name": "ipython",
    "version": 3
   },
   "file_extension": ".py",
   "mimetype": "text/x-python",
   "name": "python",
   "nbconvert_exporter": "python",
   "pygments_lexer": "ipython3",
   "version": "3.7.6"
  }
 },
 "nbformat": 4,
 "nbformat_minor": 4
}
