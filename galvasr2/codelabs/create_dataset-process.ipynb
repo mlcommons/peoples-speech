{
 "cells": [
  {
   "cell_type": "code",
   "execution_count": null,
   "metadata": {},
   "outputs": [],
   "source": [
    "import pandas as pd\n",
    "from datasketch import MinHash, MinHashLSH, MinHashLSHForest\n",
    "from nltk import ngrams\n",
    "from tqdm import tqdm\n",
    "import numpy as np\n",
    "import itertools\n",
    "import random\n",
    "\n",
    "pd.options.display.float_format = '{:20,.2f}'.format"
   ]
  },
  {
   "cell_type": "code",
   "execution_count": null,
   "metadata": {
    "scrolled": true
   },
   "outputs": [],
   "source": [
    "df = pd.read_csv('good.csv', error_bad_lines=False)\n",
    "df['len_text'] = df['text'].str.split().str.len()\n",
    "df.head()"
   ]
  },
  {
   "cell_type": "markdown",
   "metadata": {},
   "source": [
    "## Create data"
   ]
  },
  {
   "cell_type": "code",
   "execution_count": null,
   "metadata": {},
   "outputs": [],
   "source": [
    "texts = list(df['text'].values[0:2000])\n",
    "texts = ' '.join(texts).split('.')\n",
    "texts = [sentence for sentence in texts if len(sentence.split())>10]\n",
    "total_texts = list(df['text'].values)\n",
    "def duplicate_function(text):\n",
    "    number = random.uniform(0, 1)\n",
    "    if number > 0.75:\n",
    "        text = text.split('. ')\n",
    "        for i in range(int(len(text) * 0.1)):\n",
    "            text.insert(random.randint(0, len(text)), random.choice(texts))\n",
    "        result = pd.Series(['. '.join(text), 1])\n",
    "        return result\n",
    "    else:\n",
    "        result = pd.Series([random.choice(total_texts), 0])\n",
    "        return result"
   ]
  },
  {
   "cell_type": "code",
   "execution_count": null,
   "metadata": {
    "scrolled": false
   },
   "outputs": [],
   "source": [
    "df[['new_text', 'deduplicate']] = df['text'].apply(duplicate_function)\n",
    "df['len_text'] = df['text'].str.split().str.len()\n",
    "df['len_new_text'] = df['new_text'].str.split().str.len()\n",
    "df['diff_similarity'] = np.abs(1 - (df['len_new_text'] / df['len_text'])) * 100\n",
    "df = df[df['text'] != df['new_text']]\n",
    "df_1 = df[['text', 'deduplicate', 'diff_similarity']]\n",
    "df_1[['deduplicate', 'diff_similarity']] = 0\n",
    "df_2 = df[df['deduplicate'] == 1][['new_text', 'deduplicate', 'diff_similarity']]\n",
    "df_2.rename(columns={'new_text':'text'}, inplace=True)\n",
    "df = pd.concat([df_1, df_2])\n",
    "df = df.reset_index().rename(columns={'index':'original'})\n",
    "df.head()"
   ]
  },
  {
   "cell_type": "code",
   "execution_count": null,
   "metadata": {},
   "outputs": [],
   "source": [
    "df.to_csv('Dataset_duplicate_test.csv', index=None)"
   ]
  },
  {
   "cell_type": "code",
   "execution_count": null,
   "metadata": {},
   "outputs": [],
   "source": []
  }
 ],
 "metadata": {
  "kernelspec": {
   "display_name": "Python 3",
   "language": "python",
   "name": "python3"
  },
  "language_info": {
   "codemirror_mode": {
    "name": "ipython",
    "version": 3
   },
   "file_extension": ".py",
   "mimetype": "text/x-python",
   "name": "python",
   "nbconvert_exporter": "python",
   "pygments_lexer": "ipython3",
   "version": "3.7.6"
  }
 },
 "nbformat": 4,
 "nbformat_minor": 4
}
