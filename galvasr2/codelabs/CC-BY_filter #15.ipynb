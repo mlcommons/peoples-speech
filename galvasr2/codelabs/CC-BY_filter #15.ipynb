{
 "cells": [
  {
   "cell_type": "code",
   "execution_count": 9,
   "metadata": {},
   "outputs": [
    {
     "name": "stdout",
     "output_type": "stream",
     "text": [
      "63627\n",
      "+----------+--------------------+--------------------+--------------------+--------------------+-----------+--------------------+-----------------+-----------+--------------------+\n",
      "|   created|                  d1|                  d2|                 dir|               files|files_count|          identifier|item_last_updated|  item_size|            metadata|\n",
      "+----------+--------------------+--------------------+--------------------+--------------------+-----------+--------------------+-----------------+-----------+--------------------+\n",
      "|1615341644|ia600307.us.archi...|ia800307.us.archi...|/28/items/0084_To...|[{null, null, f65...|         44|0084_Tomorrow_Alw...|       1561422845| 1065371528|{null, 2012-08-25...|\n",
      "|1615341644|ia902800.us.archi...|ia802800.us.archi...|/5/items/00Bienve...|[{null, null, 35a...|         21|00BienvenidoALaRe...|       1613076782|   48528872|{null, 2018-09-18...|\n",
      "|1615341644|ia902806.us.archi...|ia802806.us.archi...|/13/items/00Bienv...|[{null, null, 35a...|         21|00BienvenidoALaRe...|       1613076783|   48529008|{null, 2018-09-18...|\n",
      "|1615341644|ia600307.us.archi...|ia800307.us.archi...|/30/items/02777AO...|[{null, null, 829...|         71|02777AOpenApril12...|       1561825339| 3435527038|{null, 2014-03-26...|\n",
      "|1615341644|ia600500.us.archi...|ia800500.us.archi...|/10/items/02777AO...|[{null, null, b72...|         71|02777AOpenApril17...|       1561825343| 3436990924|{null, 2014-03-24...|\n",
      "|1615341644|ia903006.us.archi...|ia803006.us.archi...|/12/items/02777AO...|[{null, null, 896...|         71|   02777AOpenJune313|       1561825435| 3437830142|{null, 2013-11-18...|\n",
      "|1615341644|ia600402.us.archi...|ia800402.us.archi...|/9/items/02777AOp...|[{null, null, ed8...|         71|   02777AOpenJune513|       1561825437| 3437565540|{null, 2013-11-18...|\n",
      "|1615341644|ia903005.us.archi...|ia803005.us.archi...|/6/items/02777AOp...|[{null, null, 2e6...|         71|02777AOpenMay2913...|       1561825451| 3438027760|{null, 2013-12-02...|\n",
      "|1615341644|ia902806.us.archi...|ia802806.us.archi...|/14/items/02777AO...|[{null, null, 2e6...|         71|02777AOpenMay2913...|       1585152447| 3437286759|{null, 2014-04-04...|\n",
      "|1615341644|ia600404.us.archi...|ia800404.us.archi...|/8/items/02777AOp...|[{null, null, 9d9...|         71|   02777AOpenMay3113|       1561825455| 3436745471|{null, 2013-12-03...|\n",
      "|1615341646|ia902900.us.archi...|ia802900.us.archi...|/23/items/0483_Ir...|[{null, null, f65...|         40|0483_Irrigation_f...|       1542204251|  914451396|{null, 2012-07-07...|\n",
      "|1615341644|ia600701.us.archi...|ia800701.us.archi...|/3/items/04TheMos...|[{null, null, a04...|        147|04TheMostDangerou...|       1613084958| 6110945012|{null, 2019-01-03...|\n",
      "|1615316653|ia600901.us.archi...|ia800901.us.archi...|/11/items/04ThePh...|[{null, null, b40...|        154|  04ThePhantomPlanet|       1613084899| 7182707429|{null, 2019-02-06...|\n",
      "|1615341644|ia601206.us.archi...|ia801206.us.archi...|/14/items/0728201...|[{null, null, 21f...|        221|   07282016HFUUforum|       1561865004|13838329813|{null, 2016-07-30...|\n",
      "|1615341644|ia902705.us.archi...|ia802705.us.archi...|/30/items/07Ml.Z....|[{null, null, 964...|        122|07Ml.Z.RagiJinnan...|       1556248587|  274615174|{null, 2015-01-07...|\n",
      "|1615336854|ia902903.us.archi...|ia802903.us.archi...|/8/items/09COLLEC...|[{null, null, c23...|        397|  09COLLECTIVIZATION|       1613089642| 3845121085|{null, 2018-10-24...|\n",
      "|1615341645|ia601902.us.archi...|ia801902.us.archi...|/16/items/1-12-16...|[{null, null, a9c...|         90|1-12-16_Early_Bir...|       1496387936| 2081301046|{null, 2016-09-30...|\n",
      "|1615341645|ia601201.us.archi...|ia801201.us.archi...|/4/items/1-12-16_...|[{null, null, bea...|         64|1-12-16_Planning_...|       1496387937| 1620588654|{null, 2016-09-30...|\n",
      "|1615341645|ia601604.us.archi...|ia801604.us.archi...|/25/items/1-18-17...|[{null, null, 34d...|        101|1-18-17_City_Council|       1535201412| 2412819315|{null, 2017-01-23...|\n",
      "|1615341645|ia600105.us.archi...|ia800105.us.archi...|/2/items/1-18-18_...|[{null, null, 67b...|        132|1-18-18_City_Coun...|       1548928681| 3932742325|{null, 2018-01-22...|\n",
      "+----------+--------------------+--------------------+--------------------+--------------------+-----------+--------------------+-----------------+-----------+--------------------+\n",
      "only showing top 20 rows\n",
      "\n"
     ]
    }
   ],
   "source": [
    "from align.spark.schemas import ARCHIVE_ORG_SCHEMA\n",
    "import pyspark.sql.functions as F\n",
    "from pyspark.sql import SparkSession\n",
    "spark = SparkSession.builder.appName('CC-BY-license').getOrCreate()\n",
    "input_catalogue_path = \"gs://the-peoples-speech-west-europe/archive_org/Mar_7_2021/EXPANDED_LICENSES_FILTERED_ACCESS.jsonl.gz\"\n",
    "df = spark.read.format('json').schema(ARCHIVE_ORG_SCHEMA).load(input_catalogue_path)\n",
    "print(df.count())\n",
    "df.show()"
   ]
  },
  {
   "cell_type": "code",
   "execution_count": 10,
   "metadata": {},
   "outputs": [
    {
     "name": "stdout",
     "output_type": "stream",
     "text": [
      "+--------------------+--------------------+--------------------+--------------------+\n",
      "| metadata.licenseurl|    metadata.creator|      metadata.title|    metadata.credits|\n",
      "+--------------------+--------------------+--------------------+--------------------+\n",
      "|http://creativeco...|Lamont-Clemens, Inc.|Tomorrow Always C...|Produced by Burne...|\n",
      "|http://creativeco...|                AT86|00 Bienvenido A L...|                null|\n",
      "|http://creativeco...|          Matrixland|00 Bienvenido A L...|                null|\n",
      "|http://creativeco...|                Open|Open Friday | Apr...|                null|\n",
      "|http://creativeco...|                Open|02777 A Open Apri...|                null|\n",
      "|http://creativeco...|  Francisco Betances|Open Monday | Jun...|                null|\n",
      "|http://creativeco...|  Francisco Betances|Open Wednesday | ...|                null|\n",
      "|http://creativeco...|  Francisco Betances|Open Wednesday | ...|                null|\n",
      "|http://creativeco...|                Open|Open Wednesday | ...|                null|\n",
      "|http://creativeco...|  Francisco Betances|Open Friday | May...|                null|\n",
      "|http://creativeco...|U.S. Department o...|Irrigation for th...|written and produ...|\n",
      "|http://creativeco...|     Donald Phillips|Saturday Matinee: 06|                null|\n",
      "|http://creativeco...|     Donald Phillips|Saturday Matinee: 07|                null|\n",
      "|http://creativeco...|Akakū Maui Commun...|Hawaii Farmers Un...|                null|\n",
      "|http://creativeco...|         Radio Islam|07 Ml. Z. Ragi Ji...|                null|\n",
      "|http://creativeco...|        aula abierta|Historia de Rusia...|                null|\n",
      "|https://creativec...|     City of Holland|1-12-16 Early Bir...|                null|\n",
      "|https://creativec...|     City of Holland|1-12-16 Planning ...|                null|\n",
      "|https://creativec...|     City of Holland|1-18-17 City Council|                null|\n",
      "|https://creativec...|     City of Holland|1-18-18 City Coun...|                null|\n",
      "+--------------------+--------------------+--------------------+--------------------+\n",
      "only showing top 20 rows\n",
      "\n"
     ]
    }
   ],
   "source": [
    "columns = [df.metadata.licenseurl, df.metadata.creator, df.metadata.title, df.metadata.credits]\n",
    "licenses = ['https://creativecommons.org/licenses/by/4.0/',\n",
    "'https://creativecommons.org/licenses/by/3.0/',\n",
    "'http://creativecommons.org/licenses/by/2.0/',\n",
    "'http://creativecommons.org/licenses/by/3.0/',\n",
    "'https://creativecommons.org/licenses/by/3.0',\n",
    "'http://creativecommons.org/licenses/by/2.5/',\n",
    "'http://creativecommons.org/licenses/by/2.5/pl/',\n",
    "'http://creativecommons.org/licenses/by/2.5/it/',\n",
    "'http://creativecommons.org/licenses/by/4.0/',\n",
    "'http://creativecommons.org/licenses/by/3.0/us/',\n",
    "'http://creativecommons.org/licenses/by/2.5/ar/']\n",
    "df = df.select(columns)\n",
    "df.show()"
   ]
  },
  {
   "cell_type": "code",
   "execution_count": 11,
   "metadata": {},
   "outputs": [
    {
     "name": "stdout",
     "output_type": "stream",
     "text": [
      "+----------+\n",
      "|NULL_Count|\n",
      "+----------+\n",
      "|         4|\n",
      "+----------+\n",
      "\n"
     ]
    }
   ],
   "source": [
    "c = '`metadata.licenseurl`'\n",
    "df.agg(F.count(F.when(F.isnull(c), c)).alias('NULL_Count')).show()"
   ]
  },
  {
   "cell_type": "markdown",
   "metadata": {},
   "source": [
    "### Look NA values"
   ]
  },
  {
   "cell_type": "code",
   "execution_count": 12,
   "metadata": {},
   "outputs": [
    {
     "data": {
      "text/html": [
       "<div>\n",
       "<style scoped>\n",
       "    .dataframe tbody tr th:only-of-type {\n",
       "        vertical-align: middle;\n",
       "    }\n",
       "\n",
       "    .dataframe tbody tr th {\n",
       "        vertical-align: top;\n",
       "    }\n",
       "\n",
       "    .dataframe thead th {\n",
       "        text-align: right;\n",
       "    }\n",
       "</style>\n",
       "<table border=\"1\" class=\"dataframe\">\n",
       "  <thead>\n",
       "    <tr style=\"text-align: right;\">\n",
       "      <th></th>\n",
       "      <th>metadata.licenseurl</th>\n",
       "      <th>metadata.creator</th>\n",
       "      <th>metadata.title</th>\n",
       "      <th>metadata.credits</th>\n",
       "    </tr>\n",
       "  </thead>\n",
       "  <tbody>\n",
       "    <tr>\n",
       "      <th>0</th>\n",
       "      <td>http://creativecommons.org/publicdomain/mark/1.0/</td>\n",
       "      <td>Lamont-Clemens, Inc.</td>\n",
       "      <td>Tomorrow Always Comes</td>\n",
       "      <td>Produced by Burnet Lamont; Directed by William...</td>\n",
       "    </tr>\n",
       "    <tr>\n",
       "      <th>1</th>\n",
       "      <td>http://creativecommons.org/publicdomain/mark/1.0/</td>\n",
       "      <td>AT86</td>\n",
       "      <td>00 Bienvenido A La Revolución De La Impresión ...</td>\n",
       "      <td>None</td>\n",
       "    </tr>\n",
       "    <tr>\n",
       "      <th>2</th>\n",
       "      <td>http://creativecommons.org/publicdomain/mark/1.0/</td>\n",
       "      <td>Matrixland</td>\n",
       "      <td>00 Bienvenido A La Revolución De La Impresión ...</td>\n",
       "      <td>None</td>\n",
       "    </tr>\n",
       "    <tr>\n",
       "      <th>3</th>\n",
       "      <td>http://creativecommons.org/publicdomain/mark/1.0/</td>\n",
       "      <td>Open</td>\n",
       "      <td>Open Friday | Apr. 12, 2013</td>\n",
       "      <td>None</td>\n",
       "    </tr>\n",
       "    <tr>\n",
       "      <th>4</th>\n",
       "      <td>http://creativecommons.org/publicdomain/mark/1.0/</td>\n",
       "      <td>Open</td>\n",
       "      <td>02777 A Open April 17 13</td>\n",
       "      <td>None</td>\n",
       "    </tr>\n",
       "  </tbody>\n",
       "</table>\n",
       "</div>"
      ],
      "text/plain": [
       "                                 metadata.licenseurl      metadata.creator  \\\n",
       "0  http://creativecommons.org/publicdomain/mark/1.0/  Lamont-Clemens, Inc.   \n",
       "1  http://creativecommons.org/publicdomain/mark/1.0/                  AT86   \n",
       "2  http://creativecommons.org/publicdomain/mark/1.0/            Matrixland   \n",
       "3  http://creativecommons.org/publicdomain/mark/1.0/                  Open   \n",
       "4  http://creativecommons.org/publicdomain/mark/1.0/                  Open   \n",
       "\n",
       "                                      metadata.title  \\\n",
       "0                              Tomorrow Always Comes   \n",
       "1  00 Bienvenido A La Revolución De La Impresión ...   \n",
       "2  00 Bienvenido A La Revolución De La Impresión ...   \n",
       "3                        Open Friday | Apr. 12, 2013   \n",
       "4                           02777 A Open April 17 13   \n",
       "\n",
       "                                    metadata.credits  \n",
       "0  Produced by Burnet Lamont; Directed by William...  \n",
       "1                                               None  \n",
       "2                                               None  \n",
       "3                                               None  \n",
       "4                                               None  "
      ]
     },
     "execution_count": 12,
     "metadata": {},
     "output_type": "execute_result"
    }
   ],
   "source": [
    "df_pd = df.toPandas()\n",
    "df_pd.head()"
   ]
  },
  {
   "cell_type": "code",
   "execution_count": 13,
   "metadata": {},
   "outputs": [
    {
     "data": {
      "text/plain": [
       "(63627, 4)"
      ]
     },
     "execution_count": 13,
     "metadata": {},
     "output_type": "execute_result"
    }
   ],
   "source": [
    "df_pd.shape"
   ]
  },
  {
   "cell_type": "code",
   "execution_count": 14,
   "metadata": {},
   "outputs": [
    {
     "data": {
      "text/plain": [
       "metadata.licenseurl        4\n",
       "metadata.creator       48250\n",
       "metadata.title             4\n",
       "metadata.credits       61509\n",
       "dtype: int64"
      ]
     },
     "execution_count": 14,
     "metadata": {},
     "output_type": "execute_result"
    }
   ],
   "source": [
    "df_pd.isna().sum()"
   ]
  },
  {
   "cell_type": "code",
   "execution_count": 15,
   "metadata": {
    "scrolled": true
   },
   "outputs": [
    {
     "data": {
      "text/plain": [
       "https://www.usa.gov/government-works                                                                                                                                                             73.350832\n",
       "http://creativecommons.org/licenses/publicdomain/                                                                                                                                                 8.393191\n",
       "http://creativecommons.org/publicdomain/mark/1.0/                                                                                                                                                 6.626534\n",
       "https://creativecommons.org/licenses/by/3.0/                                                                                                                                                      6.112569\n",
       "http://creativecommons.org/publicdomain/zero/1.0/                                                                                                                                                 2.648413\n",
       "http://creativecommons.org/licenses/by/3.0/                                                                                                                                                       1.012213\n",
       "https://creativecommons.org/licenses/by/3.0                                                                                                                                                       0.740298\n",
       "http://creativecommons.org/licenses/by/2.0/                                                                                                                                                       0.477815\n",
       "https://creativecommons.org/licenses/cc0/3.0/                                                                                                                                                     0.358361\n",
       "http://creativecommons.org/licenses/publicdomain                                                                                                                                                  0.146174\n",
       "https://creativecommons.org/licenses/by/4.0/                                                                                                                                                      0.053440\n",
       "http://creativecommons.org/licenses/by/4.0/                                                                                                                                                       0.053440\n",
       "http://creativecommons.org/licenses/by/3.0/us/                                                                                                                                                    0.014146\n",
       "http://creativecommons.org/licenses/publicdomain/prelinger/                                                                                                                                       0.003144\n",
       "http://creativecommons.org/licenses/by/2.5/pl/                                                                                                                                                    0.001572\n",
       "http://creativecommons.org/licenses/by/2.5/it/                                                                                                                                                    0.001572\n",
       "http://creativecommons.org/licenses/by/2.5/ar/                                                                                                                                                    0.001572\n",
       "http://creativecommons.org/licenses/by/2.5/                                                                                                                                                       0.001572\n",
       "https://creativecommons.org/publicdomain/zero/1.0/                                                                                                                                                0.001572\n",
       "[\"https://creativecommons.org/licenses/by/3.0/\",\"https://creativecommons.org/licenses/by/3.0/\",\"https://creativecommons.org/licenses/by/3.0/\",\"https://creativecommons.org/licenses/by/3.0/\"]     0.001572\n",
       "Name: metadata.licenseurl, dtype: float64"
      ]
     },
     "execution_count": 15,
     "metadata": {},
     "output_type": "execute_result"
    }
   ],
   "source": [
    "df_pd['metadata.licenseurl'].value_counts(normalize=True) * 100"
   ]
  },
  {
   "cell_type": "code",
   "execution_count": 16,
   "metadata": {},
   "outputs": [
    {
     "data": {
      "text/html": [
       "<div>\n",
       "<style scoped>\n",
       "    .dataframe tbody tr th:only-of-type {\n",
       "        vertical-align: middle;\n",
       "    }\n",
       "\n",
       "    .dataframe tbody tr th {\n",
       "        vertical-align: top;\n",
       "    }\n",
       "\n",
       "    .dataframe thead th {\n",
       "        text-align: right;\n",
       "    }\n",
       "</style>\n",
       "<table border=\"1\" class=\"dataframe\">\n",
       "  <thead>\n",
       "    <tr style=\"text-align: right;\">\n",
       "      <th></th>\n",
       "      <th>metadata.licenseurl</th>\n",
       "      <th>metadata.creator</th>\n",
       "      <th>metadata.title</th>\n",
       "      <th>metadata.credits</th>\n",
       "    </tr>\n",
       "  </thead>\n",
       "  <tbody>\n",
       "    <tr>\n",
       "      <th>7305</th>\n",
       "      <td>None</td>\n",
       "      <td>None</td>\n",
       "      <td>None</td>\n",
       "      <td>None</td>\n",
       "    </tr>\n",
       "    <tr>\n",
       "      <th>7702</th>\n",
       "      <td>None</td>\n",
       "      <td>None</td>\n",
       "      <td>None</td>\n",
       "      <td>None</td>\n",
       "    </tr>\n",
       "    <tr>\n",
       "      <th>7703</th>\n",
       "      <td>None</td>\n",
       "      <td>None</td>\n",
       "      <td>None</td>\n",
       "      <td>None</td>\n",
       "    </tr>\n",
       "    <tr>\n",
       "      <th>7711</th>\n",
       "      <td>None</td>\n",
       "      <td>None</td>\n",
       "      <td>None</td>\n",
       "      <td>None</td>\n",
       "    </tr>\n",
       "  </tbody>\n",
       "</table>\n",
       "</div>"
      ],
      "text/plain": [
       "     metadata.licenseurl metadata.creator metadata.title metadata.credits\n",
       "7305                None             None           None             None\n",
       "7702                None             None           None             None\n",
       "7703                None             None           None             None\n",
       "7711                None             None           None             None"
      ]
     },
     "execution_count": 16,
     "metadata": {},
     "output_type": "execute_result"
    }
   ],
   "source": [
    "df_pd[df_pd['metadata.licenseurl'].isna()]"
   ]
  },
  {
   "cell_type": "code",
   "execution_count": 17,
   "metadata": {},
   "outputs": [
    {
     "data": {
      "text/plain": [
       "array(['http://creativecommons.org/publicdomain/mark/1.0/',\n",
       "       'https://creativecommons.org/licenses/by/3.0/',\n",
       "       'http://creativecommons.org/publicdomain/zero/1.0/',\n",
       "       'http://creativecommons.org/licenses/by/3.0/',\n",
       "       'https://creativecommons.org/licenses/by/3.0',\n",
       "       'http://creativecommons.org/licenses/publicdomain/',\n",
       "       'http://creativecommons.org/licenses/by/4.0/',\n",
       "       'https://creativecommons.org/licenses/cc0/3.0/',\n",
       "       'https://creativecommons.org/licenses/by/4.0/',\n",
       "       'http://creativecommons.org/licenses/by/3.0/us/',\n",
       "       'http://creativecommons.org/licenses/by/2.5/',\n",
       "       'http://creativecommons.org/licenses/by/2.0/',\n",
       "       'http://creativecommons.org/licenses/by/2.5/pl/',\n",
       "       'http://creativecommons.org/licenses/by/2.5/it/', None,\n",
       "       '[\"https://creativecommons.org/licenses/by/3.0/\",\"https://creativecommons.org/licenses/by/3.0/\",\"https://creativecommons.org/licenses/by/3.0/\",\"https://creativecommons.org/licenses/by/3.0/\"]',\n",
       "       'http://creativecommons.org/licenses/by/2.5/ar/',\n",
       "       'http://creativecommons.org/licenses/publicdomain/prelinger/',\n",
       "       'https://www.usa.gov/government-works',\n",
       "       'https://creativecommons.org/publicdomain/zero/1.0/',\n",
       "       'http://creativecommons.org/licenses/publicdomain'], dtype=object)"
      ]
     },
     "execution_count": 17,
     "metadata": {},
     "output_type": "execute_result"
    }
   ],
   "source": [
    "df_pd['metadata.licenseurl'].unique()"
   ]
  },
  {
   "cell_type": "markdown",
   "metadata": {},
   "source": [
    "## Filter values by  license"
   ]
  },
  {
   "cell_type": "code",
   "execution_count": 18,
   "metadata": {},
   "outputs": [
    {
     "name": "stdout",
     "output_type": "stream",
     "text": [
      "+--------------------+--------------------+--------------------+--------------------+\n",
      "|          licenseurl|             creator|               title|             credits|\n",
      "+--------------------+--------------------+--------------------+--------------------+\n",
      "|http://creativeco...|Lamont-Clemens, Inc.|Tomorrow Always C...|Produced by Burne...|\n",
      "|http://creativeco...|                AT86|00 Bienvenido A L...|                null|\n",
      "|http://creativeco...|          Matrixland|00 Bienvenido A L...|                null|\n",
      "|http://creativeco...|                Open|Open Friday | Apr...|                null|\n",
      "|http://creativeco...|                Open|02777 A Open Apri...|                null|\n",
      "|http://creativeco...|  Francisco Betances|Open Monday | Jun...|                null|\n",
      "|http://creativeco...|  Francisco Betances|Open Wednesday | ...|                null|\n",
      "|http://creativeco...|  Francisco Betances|Open Wednesday | ...|                null|\n",
      "|http://creativeco...|                Open|Open Wednesday | ...|                null|\n",
      "|http://creativeco...|  Francisco Betances|Open Friday | May...|                null|\n",
      "|http://creativeco...|U.S. Department o...|Irrigation for th...|written and produ...|\n",
      "|http://creativeco...|     Donald Phillips|Saturday Matinee: 06|                null|\n",
      "|http://creativeco...|     Donald Phillips|Saturday Matinee: 07|                null|\n",
      "|http://creativeco...|Akakū Maui Commun...|Hawaii Farmers Un...|                null|\n",
      "|http://creativeco...|         Radio Islam|07 Ml. Z. Ragi Ji...|                null|\n",
      "|http://creativeco...|        aula abierta|Historia de Rusia...|                null|\n",
      "|https://creativec...|     City of Holland|1-12-16 Early Bir...|                null|\n",
      "|https://creativec...|     City of Holland|1-12-16 Planning ...|                null|\n",
      "|https://creativec...|     City of Holland|1-18-17 City Council|                null|\n",
      "|https://creativec...|     City of Holland|1-18-18 City Coun...|                null|\n",
      "+--------------------+--------------------+--------------------+--------------------+\n",
      "only showing top 20 rows\n",
      "\n"
     ]
    }
   ],
   "source": [
    "df = (df.withColumnRenamed('metadata.licenseurl','licenseurl').withColumnRenamed('metadata.creator', 'creator')\n",
    "     .withColumnRenamed('metadata.title', 'title').withColumnRenamed('metadata.credits', 'credits'))\n",
    "df = df.dropna(subset=['licenseurl'])\n",
    "df.show()"
   ]
  },
  {
   "cell_type": "code",
   "execution_count": 21,
   "metadata": {
    "scrolled": true
   },
   "outputs": [
    {
     "name": "stdout",
     "output_type": "stream",
     "text": [
      "+--------------------+--------------------+--------------------+-------+\n",
      "|          licenseurl|             creator|               title|credits|\n",
      "+--------------------+--------------------+--------------------+-------+\n",
      "|https://creativec...|     City of Holland|1-12-16 Early Bir...|   null|\n",
      "|https://creativec...|     City of Holland|1-12-16 Planning ...|   null|\n",
      "|https://creativec...|     City of Holland|1-18-17 City Council|   null|\n",
      "|https://creativec...|     City of Holland|1-18-18 City Coun...|   null|\n",
      "|https://creativec...|     City of Holland|1-21 City Council...|   null|\n",
      "|https://creativec...|     City of Holland|1-22 City Council...|   null|\n",
      "|https://creativec...|     City of Holland|1-23 Board of App...|   null|\n",
      "|https://creativec...|     City of Holland|1-25-18 Board of ...|   null|\n",
      "|https://creativec...|     City of Holland|1-26-17 Board of ...|   null|\n",
      "|https://creativec...|     City of Holland|1-28-16 Board of ...|   null|\n",
      "|https://creativec...|     City of Holland|1-3-18 City Counc...|   null|\n",
      "|https://creativec...|     City of Holland| 1-4-17 City Council|   null|\n",
      "|https://creativec...|     City of Holland|1-5-16 Historic D...|   null|\n",
      "|https://creativec...|     City of Holland| 1-6-16 City Council|   null|\n",
      "|https://creativec...|     City of Holland|1-9-18 Planning C...|   null|\n",
      "|http://creativeco...|Saint Paul Neighb...|1.9 Billion Dolla...|   null|\n",
      "|https://creativec...|     City of Holland|10-1-14 City Council|   null|\n",
      "|https://creativec...|     City of Holland|10-10-17LivingSus...|   null|\n",
      "|https://creativec...|     City of Holland|10-10-17 Historic...|   null|\n",
      "|https://creativec...|     City of Holland|   10-11-16 Planning|   null|\n",
      "+--------------------+--------------------+--------------------+-------+\n",
      "only showing top 20 rows\n",
      "\n"
     ]
    }
   ],
   "source": [
    "regexp = r\"(http|https)://creativecommons.org/licenses/by/(1[.]0|2[.]0|2[.]5|3[.]0|4[.]0)\"\n",
    "df = df.filter(df['licenseurl'].rlike(regexp))\n",
    "df.show()"
   ]
  },
  {
   "cell_type": "code",
   "execution_count": 23,
   "metadata": {},
   "outputs": [
    {
     "data": {
      "text/plain": [
       "4"
      ]
     },
     "execution_count": 23,
     "metadata": {},
     "output_type": "execute_result"
    }
   ],
   "source": [
    "len(df.columns)"
   ]
  },
  {
   "cell_type": "markdown",
   "metadata": {},
   "source": [
    "## Types of licences"
   ]
  },
  {
   "cell_type": "code",
   "execution_count": 20,
   "metadata": {},
   "outputs": [
    {
     "data": {
      "text/plain": [
       "['https://creativecommons.org/licenses/by/4.0/',\n",
       " '[\"https://creativecommons.org/licenses/by/3.0/\",\"https://creativecommons.org/licenses/by/3.0/\",\"https://creativecommons.org/licenses/by/3.0/\",\"https://creativecommons.org/licenses/by/3.0/\"]',\n",
       " 'https://creativecommons.org/licenses/by/3.0/',\n",
       " 'http://creativecommons.org/licenses/by/2.0/',\n",
       " 'http://creativecommons.org/licenses/by/3.0/',\n",
       " 'https://creativecommons.org/licenses/by/3.0',\n",
       " 'http://creativecommons.org/licenses/by/2.5/',\n",
       " 'http://creativecommons.org/licenses/by/2.5/pl/',\n",
       " 'http://creativecommons.org/licenses/by/2.5/it/',\n",
       " 'http://creativecommons.org/licenses/by/4.0/',\n",
       " 'http://creativecommons.org/licenses/by/3.0/us/',\n",
       " 'http://creativecommons.org/licenses/by/2.5/ar/']"
      ]
     },
     "execution_count": 20,
     "metadata": {},
     "output_type": "execute_result"
    }
   ],
   "source": [
    "licenses_url = df.select('licenseurl').distinct().collect()\n",
    "licenses_urls = []\n",
    "for license in licenses_url:\n",
    "    licenses_urls.append(license[0])\n",
    "licenses_urls"
   ]
  },
  {
   "cell_type": "markdown",
   "metadata": {},
   "source": [
    "## Convert to SQL"
   ]
  },
  {
   "cell_type": "code",
   "execution_count": 12,
   "metadata": {},
   "outputs": [],
   "source": [
    "df.createOrReplaceTempView(\"CC_BY_creators\")"
   ]
  },
  {
   "cell_type": "code",
   "execution_count": 13,
   "metadata": {},
   "outputs": [
    {
     "name": "stdout",
     "output_type": "stream",
     "text": [
      "+--------------------+--------------------+--------------------+-------+\n",
      "|          licenseurl|             creator|               title|credits|\n",
      "+--------------------+--------------------+--------------------+-------+\n",
      "|https://creativec...|     City of Holland|1-12-16 Early Bir...|   null|\n",
      "|https://creativec...|     City of Holland|1-12-16 Planning ...|   null|\n",
      "|https://creativec...|     City of Holland|1-18-17 City Council|   null|\n",
      "|https://creativec...|     City of Holland|1-18-18 City Coun...|   null|\n",
      "|https://creativec...|     City of Holland|1-21 City Council...|   null|\n",
      "|https://creativec...|     City of Holland|1-22 City Council...|   null|\n",
      "|https://creativec...|     City of Holland|1-23 Board of App...|   null|\n",
      "|https://creativec...|     City of Holland|1-25-18 Board of ...|   null|\n",
      "|https://creativec...|     City of Holland|1-26-17 Board of ...|   null|\n",
      "|https://creativec...|     City of Holland|1-28-16 Board of ...|   null|\n",
      "|https://creativec...|     City of Holland|1-3-18 City Counc...|   null|\n",
      "|https://creativec...|     City of Holland| 1-4-17 City Council|   null|\n",
      "|https://creativec...|     City of Holland|1-5-16 Historic D...|   null|\n",
      "|https://creativec...|     City of Holland| 1-6-16 City Council|   null|\n",
      "|https://creativec...|     City of Holland|1-9-18 Planning C...|   null|\n",
      "|http://creativeco...|Saint Paul Neighb...|1.9 Billion Dolla...|   null|\n",
      "|https://creativec...|     City of Holland|10-1-14 City Council|   null|\n",
      "|https://creativec...|     City of Holland|10-10-17LivingSus...|   null|\n",
      "|https://creativec...|     City of Holland|10-10-17 Historic...|   null|\n",
      "|https://creativec...|     City of Holland|   10-11-16 Planning|   null|\n",
      "+--------------------+--------------------+--------------------+-------+\n",
      "only showing top 20 rows\n",
      "\n"
     ]
    }
   ],
   "source": [
    "spark.sql('SELECT * FROM CC_BY_creators').show()"
   ]
  },
  {
   "cell_type": "code",
   "execution_count": 14,
   "metadata": {},
   "outputs": [
    {
     "data": {
      "text/plain": [
       "MapPartitionsRDD[43] at toJavaRDD at NativeMethodAccessorImpl.java:0"
      ]
     },
     "execution_count": 14,
     "metadata": {},
     "output_type": "execute_result"
    }
   ],
   "source": []
  },
  {
   "cell_type": "markdown",
   "metadata": {},
   "source": [
    "## Save as txt"
   ]
  },
  {
   "cell_type": "code",
   "execution_count": null,
   "metadata": {
    "scrolled": true
   },
   "outputs": [],
   "source": [
    "def myConcat(*cols):\n",
    "    concat_columns = []\n",
    "    for c in cols[:-1]:\n",
    "        concat_columns.append(F.coalesce(c, F.lit(\"*\")))\n",
    "        concat_columns.append(F.lit(\" \"))  \n",
    "    concat_columns.append(F.coalesce(cols[-1], F.lit(\"*\")))\n",
    "    return F.concat(*concat_columns)\n",
    "\n",
    "df = df.withColumn(\"credits\", myConcat(*df.columns)).select(\"credits\")\n",
    "df.coalesce(1).write.format(\"text\").option(\"header\", \"false\").mode(\"append\").save(\"credits.txt\")"
   ]
  },
  {
   "cell_type": "code",
   "execution_count": null,
   "metadata": {},
   "outputs": [],
   "source": []
  }
 ],
 "metadata": {
  "anaconda-cloud": {},
  "kernelspec": {
   "display_name": "Python 3",
   "language": "python",
   "name": "python3"
  },
  "language_info": {
   "codemirror_mode": {
    "name": "ipython",
    "version": 3
   },
   "file_extension": ".py",
   "mimetype": "text/x-python",
   "name": "python",
   "nbconvert_exporter": "python",
   "pygments_lexer": "ipython3",
   "version": "3.8.5"
  }
 },
 "nbformat": 4,
 "nbformat_minor": 4
}
