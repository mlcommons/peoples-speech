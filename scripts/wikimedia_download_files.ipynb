{
 "cells": [
  {
   "cell_type": "code",
   "execution_count": 23,
   "id": "23b9e5bf",
   "metadata": {},
   "outputs": [
    {
     "name": "stdout",
     "output_type": "stream",
     "text": [
      "<Blob: wikimedia_commons, correspondence.json, 1673477410263513>\n"
     ]
    },
    {
     "ename": "ValueError",
     "evalue": "<Blob: wikimedia_commons, correspondence.json, 1673477410263513> could not be converted to unicode",
     "output_type": "error",
     "traceback": [
      "\u001b[0;31m---------------------------------------------------------------------------\u001b[0m",
      "\u001b[0;31mValueError\u001b[0m                                Traceback (most recent call last)",
      "\u001b[0;32m<ipython-input-23-ad64f9b6a84d>\u001b[0m in \u001b[0;36m<module>\u001b[0;34m\u001b[0m\n\u001b[1;32m     31\u001b[0m \u001b[0;32mfor\u001b[0m \u001b[0mfile\u001b[0m \u001b[0;32min\u001b[0m \u001b[0mfiles_list\u001b[0m\u001b[0;34m[\u001b[0m\u001b[0;36m0\u001b[0m\u001b[0;34m:\u001b[0m\u001b[0;36m2\u001b[0m\u001b[0;34m]\u001b[0m\u001b[0;34m:\u001b[0m\u001b[0;34m\u001b[0m\u001b[0;34m\u001b[0m\u001b[0m\n\u001b[1;32m     32\u001b[0m     \u001b[0mprint\u001b[0m\u001b[0;34m(\u001b[0m\u001b[0mfile\u001b[0m\u001b[0;34m)\u001b[0m\u001b[0;34m\u001b[0m\u001b[0;34m\u001b[0m\u001b[0m\n\u001b[0;32m---> 33\u001b[0;31m     \u001b[0mdownload_blob\u001b[0m\u001b[0;34m(\u001b[0m\u001b[0mbucket_name\u001b[0m\u001b[0;34m,\u001b[0m \u001b[0mfile\u001b[0m\u001b[0;34m,\u001b[0m \u001b[0mfile\u001b[0m\u001b[0;34m)\u001b[0m\u001b[0;34m\u001b[0m\u001b[0;34m\u001b[0m\u001b[0m\n\u001b[0m\u001b[1;32m     34\u001b[0m     \u001b[0mf\u001b[0m \u001b[0;34m=\u001b[0m \u001b[0mopen\u001b[0m\u001b[0;34m(\u001b[0m\u001b[0;34m\"downloaded.txt\"\u001b[0m\u001b[0;34m,\u001b[0m \u001b[0;34m\"a\"\u001b[0m\u001b[0;34m)\u001b[0m\u001b[0;34m\u001b[0m\u001b[0;34m\u001b[0m\u001b[0m\n\u001b[1;32m     35\u001b[0m     \u001b[0mf\u001b[0m\u001b[0;34m.\u001b[0m\u001b[0mwrite\u001b[0m\u001b[0;34m(\u001b[0m\u001b[0;34mf\"{file}\\n\"\u001b[0m\u001b[0;34m)\u001b[0m\u001b[0;34m\u001b[0m\u001b[0;34m\u001b[0m\u001b[0m\n",
      "\u001b[0;32m<ipython-input-23-ad64f9b6a84d>\u001b[0m in \u001b[0;36mdownload_blob\u001b[0;34m(bucket_name, source_blob_name, destination_file_name)\u001b[0m\n\u001b[1;32m     20\u001b[0m     \u001b[0mstorage_client\u001b[0m \u001b[0;34m=\u001b[0m \u001b[0mstorage\u001b[0m\u001b[0;34m.\u001b[0m\u001b[0mClient\u001b[0m\u001b[0;34m(\u001b[0m\u001b[0;34m)\u001b[0m\u001b[0;34m\u001b[0m\u001b[0;34m\u001b[0m\u001b[0m\n\u001b[1;32m     21\u001b[0m     \u001b[0mbucket\u001b[0m \u001b[0;34m=\u001b[0m \u001b[0mstorage_client\u001b[0m\u001b[0;34m.\u001b[0m\u001b[0mbucket\u001b[0m\u001b[0;34m(\u001b[0m\u001b[0mbucket_name\u001b[0m\u001b[0;34m)\u001b[0m\u001b[0;34m\u001b[0m\u001b[0;34m\u001b[0m\u001b[0m\n\u001b[0;32m---> 22\u001b[0;31m     \u001b[0mblob\u001b[0m \u001b[0;34m=\u001b[0m \u001b[0mbucket\u001b[0m\u001b[0;34m.\u001b[0m\u001b[0mblob\u001b[0m\u001b[0;34m(\u001b[0m\u001b[0msource_blob_name\u001b[0m\u001b[0;34m)\u001b[0m\u001b[0;34m\u001b[0m\u001b[0;34m\u001b[0m\u001b[0m\n\u001b[0m\u001b[1;32m     23\u001b[0m     \u001b[0mdownloads_folder\u001b[0m \u001b[0;34m=\u001b[0m \u001b[0mpathlib\u001b[0m\u001b[0;34m.\u001b[0m\u001b[0mPath\u001b[0m\u001b[0;34m.\u001b[0m\u001b[0mcwd\u001b[0m\u001b[0;34m(\u001b[0m\u001b[0;34m)\u001b[0m\u001b[0;34m\u001b[0m\u001b[0;34m\u001b[0m\u001b[0m\n\u001b[1;32m     24\u001b[0m     \u001b[0mfile\u001b[0m \u001b[0;34m=\u001b[0m \u001b[0mdownloads_folder\u001b[0m\u001b[0;34m.\u001b[0m\u001b[0mjoinpath\u001b[0m\u001b[0;34m(\u001b[0m\u001b[0mdestination_file_name\u001b[0m\u001b[0;34m)\u001b[0m\u001b[0;34m\u001b[0m\u001b[0;34m\u001b[0m\u001b[0m\n",
      "\u001b[0;32m~/miniconda3/envs/factored/lib/python3.7/site-packages/google/cloud/storage/bucket.py\u001b[0m in \u001b[0;36mblob\u001b[0;34m(self, blob_name, chunk_size, encryption_key, kms_key_name, generation)\u001b[0m\n\u001b[1;32m    799\u001b[0m             \u001b[0mencryption_key\u001b[0m\u001b[0;34m=\u001b[0m\u001b[0mencryption_key\u001b[0m\u001b[0;34m,\u001b[0m\u001b[0;34m\u001b[0m\u001b[0;34m\u001b[0m\u001b[0m\n\u001b[1;32m    800\u001b[0m             \u001b[0mkms_key_name\u001b[0m\u001b[0;34m=\u001b[0m\u001b[0mkms_key_name\u001b[0m\u001b[0;34m,\u001b[0m\u001b[0;34m\u001b[0m\u001b[0;34m\u001b[0m\u001b[0m\n\u001b[0;32m--> 801\u001b[0;31m             \u001b[0mgeneration\u001b[0m\u001b[0;34m=\u001b[0m\u001b[0mgeneration\u001b[0m\u001b[0;34m,\u001b[0m\u001b[0;34m\u001b[0m\u001b[0;34m\u001b[0m\u001b[0m\n\u001b[0m\u001b[1;32m    802\u001b[0m         )\n\u001b[1;32m    803\u001b[0m \u001b[0;34m\u001b[0m\u001b[0m\n",
      "\u001b[0;32m~/miniconda3/envs/factored/lib/python3.7/site-packages/google/cloud/storage/blob.py\u001b[0m in \u001b[0;36m__init__\u001b[0;34m(self, name, bucket, chunk_size, encryption_key, kms_key_name, generation)\u001b[0m\n\u001b[1;32m    214\u001b[0m             \u001b[0mGet\u001b[0m \u001b[0mthe\u001b[0m \u001b[0mblob\u001b[0m\u001b[0;31m'\u001b[0m\u001b[0ms\u001b[0m \u001b[0mname\u001b[0m\u001b[0;34m.\u001b[0m\u001b[0;34m\u001b[0m\u001b[0;34m\u001b[0m\u001b[0m\n\u001b[1;32m    215\u001b[0m         \"\"\"\n\u001b[0;32m--> 216\u001b[0;31m         \u001b[0mname\u001b[0m \u001b[0;34m=\u001b[0m \u001b[0m_bytes_to_unicode\u001b[0m\u001b[0;34m(\u001b[0m\u001b[0mname\u001b[0m\u001b[0;34m)\u001b[0m\u001b[0;34m\u001b[0m\u001b[0;34m\u001b[0m\u001b[0m\n\u001b[0m\u001b[1;32m    217\u001b[0m         \u001b[0msuper\u001b[0m\u001b[0;34m(\u001b[0m\u001b[0mBlob\u001b[0m\u001b[0;34m,\u001b[0m \u001b[0mself\u001b[0m\u001b[0;34m)\u001b[0m\u001b[0;34m.\u001b[0m\u001b[0m__init__\u001b[0m\u001b[0;34m(\u001b[0m\u001b[0mname\u001b[0m\u001b[0;34m=\u001b[0m\u001b[0mname\u001b[0m\u001b[0;34m)\u001b[0m\u001b[0;34m\u001b[0m\u001b[0;34m\u001b[0m\u001b[0m\n\u001b[1;32m    218\u001b[0m \u001b[0;34m\u001b[0m\u001b[0m\n",
      "\u001b[0;32m~/miniconda3/envs/factored/lib/python3.7/site-packages/google/cloud/_helpers/__init__.py\u001b[0m in \u001b[0;36m_bytes_to_unicode\u001b[0;34m(value)\u001b[0m\n\u001b[1;32m    350\u001b[0m         \u001b[0;32mreturn\u001b[0m \u001b[0mresult\u001b[0m\u001b[0;34m\u001b[0m\u001b[0;34m\u001b[0m\u001b[0m\n\u001b[1;32m    351\u001b[0m     \u001b[0;32melse\u001b[0m\u001b[0;34m:\u001b[0m\u001b[0;34m\u001b[0m\u001b[0;34m\u001b[0m\u001b[0m\n\u001b[0;32m--> 352\u001b[0;31m         \u001b[0;32mraise\u001b[0m \u001b[0mValueError\u001b[0m\u001b[0;34m(\u001b[0m\u001b[0;34m\"%r could not be converted to unicode\"\u001b[0m \u001b[0;34m%\u001b[0m \u001b[0;34m(\u001b[0m\u001b[0mvalue\u001b[0m\u001b[0;34m,\u001b[0m\u001b[0;34m)\u001b[0m\u001b[0;34m)\u001b[0m\u001b[0;34m\u001b[0m\u001b[0;34m\u001b[0m\u001b[0m\n\u001b[0m\u001b[1;32m    353\u001b[0m \u001b[0;34m\u001b[0m\u001b[0m\n\u001b[1;32m    354\u001b[0m \u001b[0;34m\u001b[0m\u001b[0m\n",
      "\u001b[0;31mValueError\u001b[0m: <Blob: wikimedia_commons, correspondence.json, 1673477410263513> could not be converted to unicode"
     ]
    }
   ],
   "source": [
    "from google.cloud import storage\n",
    "import os\n",
    "import pathlib\n",
    "\n",
    "#env variables \n",
    "project_id = 'the-peoples-speech'\n",
    "bucket_name = 'wikimedia_commons'\n",
    "bucket_file = 'test/error.txt'\n",
    "os.environ[\"GOOGLE_APPLICATION_CREDENTIALS\"] = \"the-peoples-speech-ee8163e65ace.json\"\n",
    "client = storage.Client(project_id)\n",
    "bucket = client.get_bucket(bucket_name)\n",
    "blob = bucket.blob(bucket_file)\n",
    "client = storage.Client(project_id)\n",
    "\n",
    "# Download file \n",
    "\n",
    "def download_blob(bucket_name, source_blob_name, destination_file_name):\n",
    "    \"\"\"Downloads a blob from the bucket.\"\"\"\n",
    "\n",
    "    storage_client = storage.Client()\n",
    "    bucket = storage_client.bucket(bucket_name)\n",
    "    blob = bucket.blob(source_blob_name)\n",
    "    downloads_folder = pathlib.Path.cwd()\n",
    "    file = downloads_folder.joinpath(destination_file_name)\n",
    "\n",
    "    blob.download_to_filename(file)\n",
    "    \n",
    "# get files in bucket\n",
    "files_list = [blob for blob in client.list_blobs('wikimedia_commons', prefix='transcription')]\n",
    "\n",
    "for file in files_list[0:2]:\n",
    "    download_blob(bucket_name, file.name, file.name)\n",
    "    f = open(\"downloaded.txt\", \"a\")\n",
    "    f.write(f\"{file}\\n\")\n",
    "    f.close()\n",
    "    \n",
    "files_list = [blob for blob in client.list_blobs('wikimedia_commons', prefix='reformat')]\n",
    "\n",
    "for file in files_list[0:2]:\n",
    "    download_blob(bucket_name, file.name, file.name)\n",
    "    f = open(\"downloaded.txt\", \"a\")\n",
    "    f.write(f\"{file}\\n\")\n",
    "    f.close()"
   ]
  },
  {
   "cell_type": "code",
   "execution_count": 31,
   "id": "c732a22b",
   "metadata": {},
   "outputs": [],
   "source": [
    "files_list = [blob for blob in client.list_blobs('wikimedia_commons', prefix='transcription')]\n"
   ]
  },
  {
   "cell_type": "code",
   "execution_count": 32,
   "id": "d0c5ad42",
   "metadata": {},
   "outputs": [
    {
     "data": {
      "text/plain": [
       "'transcription/\"America the Beautiful\", performed by the United States Marine Band in the 1950s.oga.en.srt'"
      ]
     },
     "execution_count": 32,
     "metadata": {},
     "output_type": "execute_result"
    }
   ],
   "source": [
    "files_list[0].name"
   ]
  },
  {
   "cell_type": "code",
   "execution_count": 28,
   "id": "6cece7f7",
   "metadata": {},
   "outputs": [],
   "source": [
    "def split_with_last_dot(string):\n",
    "    for character in range(len(string)-1,0,-1):\n",
    "        if string[character]==\".\":\n",
    "            left = string[:character]\n",
    "            right = string[character+1:]\n",
    "            return [left,right]\n",
    "\n",
    "exts=[]\n",
    "for i in files_list:\n",
    "    _,r=split_with_last_dot(i.name)\n",
    "    exts.append(r)"
   ]
  },
  {
   "cell_type": "code",
   "execution_count": 30,
   "id": "9edadfb0",
   "metadata": {},
   "outputs": [
    {
     "data": {
      "text/plain": [
       "{'OGG',\n",
       " 'WebM',\n",
       " 'flac',\n",
       " 'mid',\n",
       " 'mp3',\n",
       " 'mpg',\n",
       " 'oga',\n",
       " 'ogg',\n",
       " 'ogv',\n",
       " 'opus',\n",
       " 'wav',\n",
       " 'webm'}"
      ]
     },
     "execution_count": 30,
     "metadata": {},
     "output_type": "execute_result"
    }
   ],
   "source": [
    "set(exts)"
   ]
  }
 ],
 "metadata": {
  "kernelspec": {
   "display_name": "Python [conda env:factored]",
   "language": "python",
   "name": "conda-env-factored-py"
  },
  "language_info": {
   "codemirror_mode": {
    "name": "ipython",
    "version": 3
   },
   "file_extension": ".py",
   "mimetype": "text/x-python",
   "name": "python",
   "nbconvert_exporter": "python",
   "pygments_lexer": "ipython3",
   "version": "3.7.10"
  }
 },
 "nbformat": 4,
 "nbformat_minor": 5
}
